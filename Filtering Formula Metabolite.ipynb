{
 "cells": [
  {
   "cell_type": "code",
   "execution_count": 7,
   "id": "5ffa1f59",
   "metadata": {},
   "outputs": [],
   "source": [
    "import pandas as pd"
   ]
  },
  {
   "cell_type": "code",
   "execution_count": 5,
   "id": "3936d46a",
   "metadata": {},
   "outputs": [],
   "source": [
    "df = pd.read_excel('Jamu_metabolite_.xlsx')"
   ]
  },
  {
   "cell_type": "code",
   "execution_count": 6,
   "id": "b12e3307",
   "metadata": {},
   "outputs": [
    {
     "name": "stdout",
     "output_type": "stream",
     "text": [
      "(397, 3493)\n"
     ]
    },
    {
     "data": {
      "text/html": [
       "<div>\n",
       "<style scoped>\n",
       "    .dataframe tbody tr th:only-of-type {\n",
       "        vertical-align: middle;\n",
       "    }\n",
       "\n",
       "    .dataframe tbody tr th {\n",
       "        vertical-align: top;\n",
       "    }\n",
       "\n",
       "    .dataframe thead th {\n",
       "        text-align: right;\n",
       "    }\n",
       "</style>\n",
       "<table border=\"1\" class=\"dataframe\">\n",
       "  <thead>\n",
       "    <tr style=\"text-align: right;\">\n",
       "      <th></th>\n",
       "      <th>V1</th>\n",
       "      <th>C1</th>\n",
       "      <th>C2</th>\n",
       "      <th>C3</th>\n",
       "      <th>C4</th>\n",
       "      <th>C5</th>\n",
       "      <th>C6</th>\n",
       "      <th>C7</th>\n",
       "      <th>C8</th>\n",
       "      <th>C9</th>\n",
       "      <th>...</th>\n",
       "      <th>C3483</th>\n",
       "      <th>C3484</th>\n",
       "      <th>C3485</th>\n",
       "      <th>C3486</th>\n",
       "      <th>C3487</th>\n",
       "      <th>C3488</th>\n",
       "      <th>C3489</th>\n",
       "      <th>C3490</th>\n",
       "      <th>baru</th>\n",
       "      <th>label update</th>\n",
       "    </tr>\n",
       "  </thead>\n",
       "  <tbody>\n",
       "    <tr>\n",
       "      <th>0</th>\n",
       "      <td>J00050</td>\n",
       "      <td>0</td>\n",
       "      <td>0</td>\n",
       "      <td>0</td>\n",
       "      <td>0</td>\n",
       "      <td>0</td>\n",
       "      <td>0</td>\n",
       "      <td>0</td>\n",
       "      <td>0</td>\n",
       "      <td>0</td>\n",
       "      <td>...</td>\n",
       "      <td>0</td>\n",
       "      <td>0</td>\n",
       "      <td>0</td>\n",
       "      <td>0</td>\n",
       "      <td>0</td>\n",
       "      <td>0</td>\n",
       "      <td>0</td>\n",
       "      <td>0</td>\n",
       "      <td>1</td>\n",
       "      <td>6</td>\n",
       "    </tr>\n",
       "    <tr>\n",
       "      <th>1</th>\n",
       "      <td>J00113</td>\n",
       "      <td>0</td>\n",
       "      <td>0</td>\n",
       "      <td>0</td>\n",
       "      <td>0</td>\n",
       "      <td>0</td>\n",
       "      <td>0</td>\n",
       "      <td>0</td>\n",
       "      <td>0</td>\n",
       "      <td>0</td>\n",
       "      <td>...</td>\n",
       "      <td>0</td>\n",
       "      <td>0</td>\n",
       "      <td>0</td>\n",
       "      <td>0</td>\n",
       "      <td>0</td>\n",
       "      <td>0</td>\n",
       "      <td>0</td>\n",
       "      <td>0</td>\n",
       "      <td>1</td>\n",
       "      <td>6</td>\n",
       "    </tr>\n",
       "    <tr>\n",
       "      <th>2</th>\n",
       "      <td>J00258</td>\n",
       "      <td>0</td>\n",
       "      <td>0</td>\n",
       "      <td>0</td>\n",
       "      <td>0</td>\n",
       "      <td>0</td>\n",
       "      <td>0</td>\n",
       "      <td>0</td>\n",
       "      <td>0</td>\n",
       "      <td>0</td>\n",
       "      <td>...</td>\n",
       "      <td>0</td>\n",
       "      <td>0</td>\n",
       "      <td>0</td>\n",
       "      <td>0</td>\n",
       "      <td>0</td>\n",
       "      <td>0</td>\n",
       "      <td>0</td>\n",
       "      <td>0</td>\n",
       "      <td>1</td>\n",
       "      <td>6</td>\n",
       "    </tr>\n",
       "  </tbody>\n",
       "</table>\n",
       "<p>3 rows × 3493 columns</p>\n",
       "</div>"
      ],
      "text/plain": [
       "       V1  C1  C2  C3  C4  C5  C6  C7  C8  C9  ...  C3483  C3484  C3485  \\\n",
       "0  J00050   0   0   0   0   0   0   0   0   0  ...      0      0      0   \n",
       "1  J00113   0   0   0   0   0   0   0   0   0  ...      0      0      0   \n",
       "2  J00258   0   0   0   0   0   0   0   0   0  ...      0      0      0   \n",
       "\n",
       "   C3486  C3487  C3488  C3489  C3490  baru  label update  \n",
       "0      0      0      0      0      0     1             6  \n",
       "1      0      0      0      0      0     1             6  \n",
       "2      0      0      0      0      0     1             6  \n",
       "\n",
       "[3 rows x 3493 columns]"
      ]
     },
     "execution_count": 6,
     "metadata": {},
     "output_type": "execute_result"
    }
   ],
   "source": [
    "print(df.shape)\n",
    "df.head(3)"
   ]
  },
  {
   "cell_type": "code",
   "execution_count": 80,
   "id": "44d29a15",
   "metadata": {},
   "outputs": [
    {
     "data": {
      "text/plain": [
       "3    170\n",
       "4     82\n",
       "6     66\n",
       "2     58\n",
       "1     19\n",
       "Name: label update, dtype: int64"
      ]
     },
     "execution_count": 80,
     "metadata": {},
     "output_type": "execute_result"
    }
   ],
   "source": [
    "df[\"label update\"].value_counts()"
   ]
  },
  {
   "cell_type": "code",
   "execution_count": 76,
   "id": "13074718",
   "metadata": {},
   "outputs": [],
   "source": [
    "# remove colomn with all values are zero\n",
    "df = df.loc[:, (df != 0).any(axis=0)]\n",
    "# remove data with label 5\n",
    "df.drop(df[df[\"label update\"] == 5].index, inplace=True)"
   ]
  },
  {
   "cell_type": "code",
   "execution_count": 77,
   "id": "dfb19c8e",
   "metadata": {},
   "outputs": [],
   "source": [
    "del df['V1']\n",
    "del df['baru']"
   ]
  },
  {
   "cell_type": "code",
   "execution_count": 78,
   "id": "9de52501",
   "metadata": {},
   "outputs": [],
   "source": [
    "x = df.iloc[:,0:2255]\n",
    "y = df.iloc[:,2255:]"
   ]
  },
  {
   "cell_type": "code",
   "execution_count": 14,
   "id": "33f57b6a",
   "metadata": {},
   "outputs": [],
   "source": [
    "# Filtering formula metabolite"
   ]
  },
  {
   "cell_type": "code",
   "execution_count": 15,
   "id": "b8b7f918",
   "metadata": {},
   "outputs": [],
   "source": [
    "X_train = x \n",
    "X_test = x\n",
    "y_train = y\n",
    "y_test = y"
   ]
  },
  {
   "cell_type": "code",
   "execution_count": 43,
   "id": "096662b1",
   "metadata": {},
   "outputs": [],
   "source": [
    "from sklearn import svm\n",
    "from sklearn.ensemble import RandomForestClassifier\n",
    "from sklearn.model_selection import train_test_split\n",
    "import numpy as np\n",
    "import pandas as pd\n",
    "from pandas.plotting import scatter_matrix\n",
    "import matplotlib.pyplot as plt\n",
    "from sklearn import model_selection\n",
    "from sklearn.metrics import classification_report\n",
    "from sklearn.metrics import confusion_matrix\n",
    "from sklearn.metrics import accuracy_score\n",
    "from sklearn.linear_model import LogisticRegression\n",
    "from sklearn.tree import DecisionTreeClassifier\n",
    "from sklearn.neighbors import KNeighborsClassifier\n",
    "from sklearn.discriminant_analysis import LinearDiscriminantAnalysis\n",
    "from sklearn.naive_bayes import GaussianNB\n",
    "from sklearn.svm import SVC\n",
    "from sklearn.ensemble import RandomForestClassifier\n",
    "from sklearn import preprocessing"
   ]
  },
  {
   "cell_type": "code",
   "execution_count": 44,
   "id": "c0c7642d",
   "metadata": {},
   "outputs": [
    {
     "name": "stderr",
     "output_type": "stream",
     "text": [
      "C:\\Users\\Lab PC\\AppData\\Roaming\\Python\\Python38\\site-packages\\sklearn\\utils\\validation.py:73: DataConversionWarning: A column-vector y was passed when a 1d array was expected. Please change the shape of y to (n_samples, ), for example using ravel().\n",
      "  return f(**kwargs)\n"
     ]
    },
    {
     "data": {
      "text/plain": [
       "SVC()"
      ]
     },
     "execution_count": 44,
     "metadata": {},
     "output_type": "execute_result"
    }
   ],
   "source": [
    "classifier = svm.SVC(kernel='rbf')\n",
    "classifier.fit(X_train, y_train)"
   ]
  },
  {
   "cell_type": "code",
   "execution_count": 45,
   "id": "d5d76cc1",
   "metadata": {},
   "outputs": [
    {
     "name": "stdout",
     "output_type": "stream",
     "text": [
      "0.8784810126582279\n",
      "[[  4   0  15   0   0]\n",
      " [  0  48   6   2   2]\n",
      " [  0   0 169   1   0]\n",
      " [  0   1   8  73   0]\n",
      " [  0   1   5   7  53]]\n"
     ]
    }
   ],
   "source": [
    "predictions = classifier.predict(X_test)\n",
    "print(accuracy_score(y_test, predictions))\n",
    "print(confusion_matrix(y_test, predictions))\n",
    "y_score = classifier.decision_function(X_test)"
   ]
  },
  {
   "cell_type": "code",
   "execution_count": 48,
   "id": "badec1be",
   "metadata": {},
   "outputs": [],
   "source": [
    "temp = df\n",
    "temp['temp'] = 0\n",
    "temp['prediction']= predictions\n",
    "list = []"
   ]
  },
  {
   "cell_type": "code",
   "execution_count": 52,
   "id": "54623eb7",
   "metadata": {},
   "outputs": [
    {
     "name": "stdout",
     "output_type": "stream",
     "text": [
      "(395, 2258)\n"
     ]
    },
    {
     "data": {
      "text/html": [
       "<div>\n",
       "<style scoped>\n",
       "    .dataframe tbody tr th:only-of-type {\n",
       "        vertical-align: middle;\n",
       "    }\n",
       "\n",
       "    .dataframe tbody tr th {\n",
       "        vertical-align: top;\n",
       "    }\n",
       "\n",
       "    .dataframe thead th {\n",
       "        text-align: right;\n",
       "    }\n",
       "</style>\n",
       "<table border=\"1\" class=\"dataframe\">\n",
       "  <thead>\n",
       "    <tr style=\"text-align: right;\">\n",
       "      <th></th>\n",
       "      <th>C1</th>\n",
       "      <th>C2</th>\n",
       "      <th>C4</th>\n",
       "      <th>C5</th>\n",
       "      <th>C6</th>\n",
       "      <th>C7</th>\n",
       "      <th>C8</th>\n",
       "      <th>C9</th>\n",
       "      <th>C10</th>\n",
       "      <th>C11</th>\n",
       "      <th>...</th>\n",
       "      <th>C3483</th>\n",
       "      <th>C3484</th>\n",
       "      <th>C3486</th>\n",
       "      <th>C3487</th>\n",
       "      <th>C3488</th>\n",
       "      <th>C3489</th>\n",
       "      <th>C3490</th>\n",
       "      <th>label update</th>\n",
       "      <th>temp</th>\n",
       "      <th>prediction</th>\n",
       "    </tr>\n",
       "  </thead>\n",
       "  <tbody>\n",
       "    <tr>\n",
       "      <th>0</th>\n",
       "      <td>0</td>\n",
       "      <td>0</td>\n",
       "      <td>0</td>\n",
       "      <td>0</td>\n",
       "      <td>0</td>\n",
       "      <td>0</td>\n",
       "      <td>0</td>\n",
       "      <td>0</td>\n",
       "      <td>0</td>\n",
       "      <td>0</td>\n",
       "      <td>...</td>\n",
       "      <td>0</td>\n",
       "      <td>0</td>\n",
       "      <td>0</td>\n",
       "      <td>0</td>\n",
       "      <td>0</td>\n",
       "      <td>0</td>\n",
       "      <td>0</td>\n",
       "      <td>6</td>\n",
       "      <td>0</td>\n",
       "      <td>6</td>\n",
       "    </tr>\n",
       "    <tr>\n",
       "      <th>1</th>\n",
       "      <td>0</td>\n",
       "      <td>0</td>\n",
       "      <td>0</td>\n",
       "      <td>0</td>\n",
       "      <td>0</td>\n",
       "      <td>0</td>\n",
       "      <td>0</td>\n",
       "      <td>0</td>\n",
       "      <td>0</td>\n",
       "      <td>0</td>\n",
       "      <td>...</td>\n",
       "      <td>0</td>\n",
       "      <td>0</td>\n",
       "      <td>0</td>\n",
       "      <td>0</td>\n",
       "      <td>0</td>\n",
       "      <td>0</td>\n",
       "      <td>0</td>\n",
       "      <td>6</td>\n",
       "      <td>0</td>\n",
       "      <td>6</td>\n",
       "    </tr>\n",
       "    <tr>\n",
       "      <th>2</th>\n",
       "      <td>0</td>\n",
       "      <td>0</td>\n",
       "      <td>0</td>\n",
       "      <td>0</td>\n",
       "      <td>0</td>\n",
       "      <td>0</td>\n",
       "      <td>0</td>\n",
       "      <td>0</td>\n",
       "      <td>0</td>\n",
       "      <td>0</td>\n",
       "      <td>...</td>\n",
       "      <td>0</td>\n",
       "      <td>0</td>\n",
       "      <td>0</td>\n",
       "      <td>0</td>\n",
       "      <td>0</td>\n",
       "      <td>0</td>\n",
       "      <td>0</td>\n",
       "      <td>6</td>\n",
       "      <td>0</td>\n",
       "      <td>6</td>\n",
       "    </tr>\n",
       "  </tbody>\n",
       "</table>\n",
       "<p>3 rows × 2258 columns</p>\n",
       "</div>"
      ],
      "text/plain": [
       "   C1  C2  C4  C5  C6  C7  C8  C9  C10  C11  ...  C3483  C3484  C3486  C3487  \\\n",
       "0   0   0   0   0   0   0   0   0    0    0  ...      0      0      0      0   \n",
       "1   0   0   0   0   0   0   0   0    0    0  ...      0      0      0      0   \n",
       "2   0   0   0   0   0   0   0   0    0    0  ...      0      0      0      0   \n",
       "\n",
       "   C3488  C3489  C3490  label update  temp  prediction  \n",
       "0      0      0      0             6     0           6  \n",
       "1      0      0      0             6     0           6  \n",
       "2      0      0      0             6     0           6  \n",
       "\n",
       "[3 rows x 2258 columns]"
      ]
     },
     "execution_count": 52,
     "metadata": {},
     "output_type": "execute_result"
    }
   ],
   "source": [
    "print(temp.shape)\n",
    "temp.head(3)"
   ]
  },
  {
   "cell_type": "code",
   "execution_count": 56,
   "id": "4f642adf",
   "metadata": {},
   "outputs": [
    {
     "data": {
      "text/plain": [
       "0"
      ]
     },
     "execution_count": 56,
     "metadata": {},
     "output_type": "execute_result"
    }
   ],
   "source": [
    "temp.iloc[1,2256]"
   ]
  },
  {
   "cell_type": "code",
   "execution_count": 57,
   "id": "70fc2e59",
   "metadata": {},
   "outputs": [],
   "source": [
    "for i in range(394):\n",
    "    if(temp.iloc[i,2255] == temp.iloc[i,2257]):\n",
    "        temp.iloc[i, 2256] = 1\n",
    "    else: \n",
    "        temp.iloc[i, 2256] = 0"
   ]
  },
  {
   "cell_type": "code",
   "execution_count": 59,
   "id": "a3dfdfe1",
   "metadata": {},
   "outputs": [],
   "source": [
    "# remove data with label 2\n",
    "temp.drop(temp[temp[\"temp\"] == 0].index, inplace=True)"
   ]
  },
  {
   "cell_type": "code",
   "execution_count": 61,
   "id": "eb6c16df",
   "metadata": {},
   "outputs": [],
   "source": [
    "del temp['temp']\n",
    "del temp['prediction']\n",
    "\n",
    "temp.to_csv(\"formulaJamuMetabolite_filtered_SVM_rbf.csv\")"
   ]
  },
  {
   "cell_type": "code",
   "execution_count": 62,
   "id": "967b9d61",
   "metadata": {},
   "outputs": [],
   "source": [
    "# filtering linear"
   ]
  },
  {
   "cell_type": "code",
   "execution_count": 81,
   "id": "d5488cb5",
   "metadata": {},
   "outputs": [
    {
     "name": "stderr",
     "output_type": "stream",
     "text": [
      "C:\\Users\\Lab PC\\AppData\\Roaming\\Python\\Python38\\site-packages\\sklearn\\utils\\validation.py:73: DataConversionWarning: A column-vector y was passed when a 1d array was expected. Please change the shape of y to (n_samples, ), for example using ravel().\n",
      "  return f(**kwargs)\n"
     ]
    },
    {
     "data": {
      "text/plain": [
       "SVC(kernel='linear')"
      ]
     },
     "execution_count": 81,
     "metadata": {},
     "output_type": "execute_result"
    }
   ],
   "source": [
    "classifier = svm.SVC(kernel='linear')\n",
    "classifier.fit(X_train, y_train)"
   ]
  },
  {
   "cell_type": "code",
   "execution_count": 82,
   "id": "b8076243",
   "metadata": {},
   "outputs": [
    {
     "name": "stdout",
     "output_type": "stream",
     "text": [
      "0.9924050632911392\n",
      "[[ 19   0   0   0   0]\n",
      " [  0  57   0   0   1]\n",
      " [  0   0 170   0   0]\n",
      " [  0   0   0  81   1]\n",
      " [  0   0   0   1  65]]\n"
     ]
    }
   ],
   "source": [
    "predictions = classifier.predict(X_test)\n",
    "print(accuracy_score(y_test, predictions))\n",
    "print(confusion_matrix(y_test, predictions))\n",
    "y_score = classifier.decision_function(X_test)"
   ]
  },
  {
   "cell_type": "code",
   "execution_count": 84,
   "id": "44c9cfaf",
   "metadata": {},
   "outputs": [],
   "source": [
    "temp = df\n",
    "temp['temp'] = 0\n",
    "temp['prediction']= predictions\n",
    "list = []"
   ]
  },
  {
   "cell_type": "code",
   "execution_count": 85,
   "id": "3b6b5ebf",
   "metadata": {},
   "outputs": [],
   "source": [
    "for i in range(394):\n",
    "    if(temp.iloc[i,2255] == temp.iloc[i,2257]):\n",
    "        temp.iloc[i, 2256] = 1\n",
    "    else: \n",
    "        temp.iloc[i, 2256] = 0"
   ]
  },
  {
   "cell_type": "code",
   "execution_count": 88,
   "id": "24d54ef4",
   "metadata": {},
   "outputs": [],
   "source": [
    "# remove data with label 2\n",
    "temp.drop(temp[temp[\"temp\"] == 0].index, inplace=True)"
   ]
  },
  {
   "cell_type": "code",
   "execution_count": 90,
   "id": "be387251",
   "metadata": {},
   "outputs": [],
   "source": [
    "del temp['temp']\n",
    "del temp['prediction']\n",
    "\n",
    "temp.to_csv(\"formulaJamuMetabolite_filtered_SVM_Linear.csv\")"
   ]
  },
  {
   "cell_type": "code",
   "execution_count": null,
   "id": "c5d1c169",
   "metadata": {},
   "outputs": [],
   "source": []
  },
  {
   "cell_type": "code",
   "execution_count": 2,
   "id": "826eaae8",
   "metadata": {},
   "outputs": [
    {
     "name": "stdout",
     "output_type": "stream",
     "text": [
      "(346, 2257)\n"
     ]
    }
   ],
   "source": [
    "data_filtered_svm_rbf = pd.read_csv(\"formulaJamuMetabolite_filtered_SVM_rbf.csv\")\n",
    "print(data_viltered_svm_rbf.shape)"
   ]
  },
  {
   "cell_type": "code",
   "execution_count": 3,
   "id": "ba4db625",
   "metadata": {},
   "outputs": [
    {
     "name": "stdout",
     "output_type": "stream",
     "text": [
      "(391, 2257)\n"
     ]
    }
   ],
   "source": [
    "data_filtered_svm_linear = pd.read_csv(\"formulaJamuMetabolite_filtered_SVM_Linear.csv\")\n",
    "print(data_filtered_svm_linear.shape)"
   ]
  },
  {
   "cell_type": "code",
   "execution_count": null,
   "id": "8a6c7742",
   "metadata": {},
   "outputs": [],
   "source": []
  },
  {
   "cell_type": "code",
   "execution_count": null,
   "id": "2fe13fe4",
   "metadata": {},
   "outputs": [],
   "source": []
  }
 ],
 "metadata": {
  "kernelspec": {
   "display_name": "Python 3",
   "language": "python",
   "name": "python3"
  },
  "language_info": {
   "codemirror_mode": {
    "name": "ipython",
    "version": 3
   },
   "file_extension": ".py",
   "mimetype": "text/x-python",
   "name": "python",
   "nbconvert_exporter": "python",
   "pygments_lexer": "ipython3",
   "version": "3.8.8"
  }
 },
 "nbformat": 4,
 "nbformat_minor": 5
}
