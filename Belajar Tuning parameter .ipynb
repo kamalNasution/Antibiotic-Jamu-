{
 "cells": [
  {
   "cell_type": "code",
   "execution_count": 53,
   "id": "6134203d",
   "metadata": {},
   "outputs": [],
   "source": [
    "import eli5\n",
    "import numpy as np\n",
    "import pandas as pd\n",
    "from eli5.sklearn import PermutationImportance\n",
    "from sklearn.model_selection import train_test_split\n",
    "from sklearn.ensemble import BaggingClassifier, RandomForestClassifier\n",
    "from keras.wrappers.scikit_learn import KerasClassifier, KerasRegressor"
   ]
  },
  {
   "cell_type": "code",
   "execution_count": 54,
   "id": "fe6b0ef8",
   "metadata": {},
   "outputs": [],
   "source": [
    "df = pd.read_excel('data_diseases.xlsx')\n",
    "x = df.iloc[:,0:465]\n",
    "y = df.iloc[:,465:]"
   ]
  },
  {
   "cell_type": "code",
   "execution_count": 55,
   "id": "7ece7284",
   "metadata": {},
   "outputs": [],
   "source": [
    "import pandas as pd\n",
    "from sklearn.preprocessing import StandardScaler\n",
    "from sklearn.model_selection import train_test_split\n",
    "df = pd.read_csv('creditcard.csv',na_values = '#NAME?')\n",
    "data = pd.read_csv('Formula_Jamu_Sept_oversampling.csv')"
   ]
  },
  {
   "cell_type": "code",
   "execution_count": 56,
   "id": "ded5dddd",
   "metadata": {},
   "outputs": [
    {
     "data": {
      "text/html": [
       "<div>\n",
       "<style scoped>\n",
       "    .dataframe tbody tr th:only-of-type {\n",
       "        vertical-align: middle;\n",
       "    }\n",
       "\n",
       "    .dataframe tbody tr th {\n",
       "        vertical-align: top;\n",
       "    }\n",
       "\n",
       "    .dataframe thead th {\n",
       "        text-align: right;\n",
       "    }\n",
       "</style>\n",
       "<table border=\"1\" class=\"dataframe\">\n",
       "  <thead>\n",
       "    <tr style=\"text-align: right;\">\n",
       "      <th></th>\n",
       "      <th>C1</th>\n",
       "      <th>C2</th>\n",
       "      <th>C4</th>\n",
       "      <th>C5</th>\n",
       "      <th>C6</th>\n",
       "      <th>C7</th>\n",
       "      <th>C8</th>\n",
       "      <th>C9</th>\n",
       "      <th>C10</th>\n",
       "      <th>C11</th>\n",
       "      <th>...</th>\n",
       "      <th>C3480</th>\n",
       "      <th>C3482</th>\n",
       "      <th>C3483</th>\n",
       "      <th>C3484</th>\n",
       "      <th>C3486</th>\n",
       "      <th>C3487</th>\n",
       "      <th>C3488</th>\n",
       "      <th>C3489</th>\n",
       "      <th>C3490</th>\n",
       "      <th>label</th>\n",
       "    </tr>\n",
       "  </thead>\n",
       "  <tbody>\n",
       "    <tr>\n",
       "      <th>0</th>\n",
       "      <td>0</td>\n",
       "      <td>0</td>\n",
       "      <td>0</td>\n",
       "      <td>0</td>\n",
       "      <td>0</td>\n",
       "      <td>0</td>\n",
       "      <td>0</td>\n",
       "      <td>0</td>\n",
       "      <td>0</td>\n",
       "      <td>0</td>\n",
       "      <td>...</td>\n",
       "      <td>0</td>\n",
       "      <td>0</td>\n",
       "      <td>0</td>\n",
       "      <td>0</td>\n",
       "      <td>0</td>\n",
       "      <td>0</td>\n",
       "      <td>0</td>\n",
       "      <td>0</td>\n",
       "      <td>0</td>\n",
       "      <td>6</td>\n",
       "    </tr>\n",
       "    <tr>\n",
       "      <th>1</th>\n",
       "      <td>0</td>\n",
       "      <td>0</td>\n",
       "      <td>0</td>\n",
       "      <td>0</td>\n",
       "      <td>0</td>\n",
       "      <td>0</td>\n",
       "      <td>0</td>\n",
       "      <td>0</td>\n",
       "      <td>0</td>\n",
       "      <td>0</td>\n",
       "      <td>...</td>\n",
       "      <td>0</td>\n",
       "      <td>0</td>\n",
       "      <td>0</td>\n",
       "      <td>0</td>\n",
       "      <td>0</td>\n",
       "      <td>0</td>\n",
       "      <td>0</td>\n",
       "      <td>0</td>\n",
       "      <td>0</td>\n",
       "      <td>6</td>\n",
       "    </tr>\n",
       "  </tbody>\n",
       "</table>\n",
       "<p>2 rows × 2256 columns</p>\n",
       "</div>"
      ],
      "text/plain": [
       "   C1  C2  C4  C5  C6  C7  C8  C9  C10  C11  ...  C3480  C3482  C3483  C3484  \\\n",
       "0   0   0   0   0   0   0   0   0    0    0  ...      0      0      0      0   \n",
       "1   0   0   0   0   0   0   0   0    0    0  ...      0      0      0      0   \n",
       "\n",
       "   C3486  C3487  C3488  C3489  C3490  label  \n",
       "0      0      0      0      0      0      6  \n",
       "1      0      0      0      0      0      6  \n",
       "\n",
       "[2 rows x 2256 columns]"
      ]
     },
     "execution_count": 56,
     "metadata": {},
     "output_type": "execute_result"
    }
   ],
   "source": [
    "data.head(2)"
   ]
  },
  {
   "cell_type": "code",
   "execution_count": 126,
   "id": "23050dae",
   "metadata": {},
   "outputs": [],
   "source": [
    "x_new = data.iloc[:,0:2255]\n",
    "y_new = data.iloc[:,2255:]"
   ]
  },
  {
   "cell_type": "code",
   "execution_count": 129,
   "id": "701d1efe",
   "metadata": {},
   "outputs": [
    {
     "data": {
      "text/plain": [
       "6    170\n",
       "4    170\n",
       "3    170\n",
       "2    170\n",
       "1    170\n",
       "Name: label, dtype: int64"
      ]
     },
     "execution_count": 129,
     "metadata": {},
     "output_type": "execute_result"
    }
   ],
   "source": [
    "data['label'].value_counts()"
   ]
  },
  {
   "cell_type": "code",
   "execution_count": 57,
   "id": "18c6c954",
   "metadata": {},
   "outputs": [
    {
     "data": {
      "text/plain": [
       "0    284315\n",
       "1       492\n",
       "Name: Class, dtype: int64"
      ]
     },
     "execution_count": 57,
     "metadata": {},
     "output_type": "execute_result"
    }
   ],
   "source": [
    "df['Class'].value_counts()"
   ]
  },
  {
   "cell_type": "code",
   "execution_count": 58,
   "id": "e570d3a7",
   "metadata": {},
   "outputs": [],
   "source": [
    "X = df[['V17', 'V9', 'V6', 'V12']]\n",
    "Y = df['Class']"
   ]
  },
  {
   "cell_type": "code",
   "execution_count": 130,
   "id": "16c938e9",
   "metadata": {},
   "outputs": [],
   "source": [
    "X_Train, X_Test, Y_Train, Y_Test = train_test_split(x_new, y_new, test_size = 0.30,random_state = 101)"
   ]
  },
  {
   "cell_type": "code",
   "execution_count": 131,
   "id": "2b41a410",
   "metadata": {},
   "outputs": [
    {
     "name": "stderr",
     "output_type": "stream",
     "text": [
      "<ipython-input-131-8b3b76f0d93f>:5: DataConversionWarning: A column-vector y was passed when a 1d array was expected. Please change the shape of y to (n_samples,), for example using ravel().\n",
      "  model = RandomForestClassifier(random_state= 101).fit(X_Train,Y_Train)\n"
     ]
    },
    {
     "name": "stdout",
     "output_type": "stream",
     "text": [
      "[[42  0  0  0  0]\n",
      " [ 4 40  0  0  3]\n",
      " [ 2  1 52  4  3]\n",
      " [ 4  1  1 38  5]\n",
      " [ 4  4  1  2 44]]\n",
      "              precision    recall  f1-score   support\n",
      "\n",
      "           1       0.75      1.00      0.86        42\n",
      "           2       0.87      0.85      0.86        47\n",
      "           3       0.96      0.84      0.90        62\n",
      "           4       0.86      0.78      0.82        49\n",
      "           6       0.80      0.80      0.80        55\n",
      "\n",
      "    accuracy                           0.85       255\n",
      "   macro avg       0.85      0.85      0.85       255\n",
      "weighted avg       0.86      0.85      0.85       255\n",
      "\n"
     ]
    }
   ],
   "source": [
    "from sklearn.metrics import classification_report,confusion_matrix\n",
    "from sklearn.ensemble import RandomForestClassifier\n",
    "from sklearn.metrics import accuracy_score\n",
    "\n",
    "model = RandomForestClassifier(random_state= 101).fit(X_Train,Y_Train)\n",
    "predictionforest = model.predict(X_Test)\n",
    "print(confusion_matrix(Y_Test,predictionforest))\n",
    "print(classification_report(Y_Test,predictionforest))\n",
    "acc1 = accuracy_score(Y_Test,predictionforest)"
   ]
  },
  {
   "cell_type": "code",
   "execution_count": 132,
   "id": "57190c8a",
   "metadata": {},
   "outputs": [
    {
     "name": "stdout",
     "output_type": "stream",
     "text": [
      "[[38  3  1  0  0]\n",
      " [ 0 42  1  1  3]\n",
      " [ 2  2 50  5  3]\n",
      " [ 2  4  3 34  6]\n",
      " [ 0  8  1  4 42]]\n",
      "              precision    recall  f1-score   support\n",
      "\n",
      "           1       0.90      0.90      0.90        42\n",
      "           2       0.71      0.89      0.79        47\n",
      "           3       0.89      0.81      0.85        62\n",
      "           4       0.77      0.69      0.73        49\n",
      "           6       0.78      0.76      0.77        55\n",
      "\n",
      "    accuracy                           0.81       255\n",
      "   macro avg       0.81      0.81      0.81       255\n",
      "weighted avg       0.81      0.81      0.81       255\n",
      "\n"
     ]
    },
    {
     "name": "stderr",
     "output_type": "stream",
     "text": [
      "<ipython-input-132-34e1964b5c22>:1: DataConversionWarning: A column-vector y was passed when a 1d array was expected. Please change the shape of y to (n_samples,), for example using ravel().\n",
      "  model = RandomForestClassifier(n_estimators=10, random_state= 101).fit(X_Train,Y_Train)\n"
     ]
    }
   ],
   "source": [
    "model = RandomForestClassifier(n_estimators=10, random_state= 101).fit(X_Train,Y_Train)\n",
    "predictionforest = model.predict(X_Test)\n",
    "print(confusion_matrix(Y_Test,predictionforest))\n",
    "print(classification_report(Y_Test,predictionforest))\n",
    "acc2 = accuracy_score(Y_Test,predictionforest)"
   ]
  },
  {
   "cell_type": "code",
   "execution_count": 133,
   "id": "b23aa1f2",
   "metadata": {},
   "outputs": [
    {
     "name": "stdout",
     "output_type": "stream",
     "text": [
      "Fitting 4 folds for each of 10 candidates, totalling 40 fits\n"
     ]
    },
    {
     "name": "stderr",
     "output_type": "stream",
     "text": [
      "[Parallel(n_jobs=-1)]: Using backend LokyBackend with 16 concurrent workers.\n",
      "[Parallel(n_jobs=-1)]: Done  40 out of  40 | elapsed:    1.8s finished\n",
      "C:\\Users\\Lab PC\\AppData\\Roaming\\Python\\Python38\\site-packages\\sklearn\\model_selection\\_search.py:765: DataConversionWarning: A column-vector y was passed when a 1d array was expected. Please change the shape of y to (n_samples,), for example using ravel().\n",
      "  self.best_estimator_.fit(X, y, **fit_params)\n"
     ]
    },
    {
     "data": {
      "text/plain": [
       "RandomizedSearchCV(cv=4, estimator=RandomForestClassifier(), n_jobs=-1,\n",
       "                   param_distributions={'criterion': ['entropy', 'gini'],\n",
       "                                        'max_depth': [2],\n",
       "                                        'max_features': ['auto', 'sqrt'],\n",
       "                                        'min_samples_leaf': [4, 6, 8],\n",
       "                                        'min_samples_split': [5, 7, 10],\n",
       "                                        'n_estimators': [20]},\n",
       "                   random_state=101, verbose=1)"
      ]
     },
     "execution_count": 133,
     "metadata": {},
     "output_type": "execute_result"
    }
   ],
   "source": [
    "# Random search\n",
    "\n",
    "import numpy as np \n",
    "from sklearn.model_selection import RandomizedSearchCV\n",
    "from sklearn.model_selection import cross_val_score\n",
    "\n",
    "random_search = {'criterion': ['entropy', 'gini'],\n",
    "               'max_depth': [2],\n",
    "               'max_features': ['auto', 'sqrt'],\n",
    "               'min_samples_leaf': [4, 6, 8],\n",
    "               'min_samples_split': [5, 7,10],\n",
    "               'n_estimators': [20]}\n",
    "\n",
    "clf = RandomForestClassifier()\n",
    "model = RandomizedSearchCV(estimator = clf, param_distributions = random_search, n_iter = 10, \n",
    "                               cv = 4, verbose= 1, random_state= 101, n_jobs = -1)\n",
    "model.fit(X_Train,Y_Train)"
   ]
  },
  {
   "cell_type": "code",
   "execution_count": 134,
   "id": "2163f6b5",
   "metadata": {},
   "outputs": [
    {
     "data": {
      "text/plain": [
       "<AxesSubplot:xlabel='param_criterion', ylabel='param_n_estimators'>"
      ]
     },
     "execution_count": 134,
     "metadata": {},
     "output_type": "execute_result"
    },
    {
     "data": {
      "image/png": "[encoded data removed]",
      "text/plain": [
       "<Figure size 432x288 with 2 Axes>"
      ]
     },
     "metadata": {
      "needs_background": "light"
     },
     "output_type": "display_data"
    }
   ],
   "source": [
    "import seaborn as sns\n",
    "\n",
    "table = pd.pivot_table(pd.DataFrame(model.cv_results_),\n",
    "    values='mean_test_score', index='param_n_estimators', \n",
    "                       columns='param_criterion')\n",
    "     \n",
    "sns.heatmap(table)"
   ]
  },
  {
   "cell_type": "code",
   "execution_count": 135,
   "id": "5b4b8394",
   "metadata": {},
   "outputs": [
    {
     "name": "stdout",
     "output_type": "stream",
     "text": [
      "[[42  0  0  0  0]\n",
      " [16 26  0  4  1]\n",
      " [14  9 28 11  0]\n",
      " [15 11  1 22  0]\n",
      " [27  8  0 15  5]]\n",
      "              precision    recall  f1-score   support\n",
      "\n",
      "           1       0.37      1.00      0.54        42\n",
      "           2       0.48      0.55      0.51        47\n",
      "           3       0.97      0.45      0.62        62\n",
      "           4       0.42      0.45      0.44        49\n",
      "           6       0.83      0.09      0.16        55\n",
      "\n",
      "    accuracy                           0.48       255\n",
      "   macro avg       0.61      0.51      0.45       255\n",
      "weighted avg       0.65      0.48      0.45       255\n",
      "\n"
     ]
    }
   ],
   "source": [
    "predictionforest = model.best_estimator_.predict(X_Test)\n",
    "print(confusion_matrix(Y_Test,predictionforest))\n",
    "print(classification_report(Y_Test,predictionforest))\n",
    "acc3 = accuracy_score(Y_Test,predictionforest)"
   ]
  },
  {
   "cell_type": "code",
   "execution_count": 136,
   "id": "0e592e44",
   "metadata": {},
   "outputs": [
    {
     "name": "stdout",
     "output_type": "stream",
     "text": [
      "Fitting 4 folds for each of 36 candidates, totalling 144 fits\n"
     ]
    },
    {
     "name": "stderr",
     "output_type": "stream",
     "text": [
      "[Parallel(n_jobs=-1)]: Using backend LokyBackend with 16 concurrent workers.\n",
      "[Parallel(n_jobs=-1)]: Done  48 tasks      | elapsed:    0.4s\n",
      "[Parallel(n_jobs=-1)]: Done 142 out of 144 | elapsed:    0.9s remaining:    0.0s\n",
      "[Parallel(n_jobs=-1)]: Done 144 out of 144 | elapsed:    0.9s finished\n",
      "C:\\Users\\Lab PC\\AppData\\Roaming\\Python\\Python38\\site-packages\\sklearn\\model_selection\\_search.py:765: DataConversionWarning: A column-vector y was passed when a 1d array was expected. Please change the shape of y to (n_samples,), for example using ravel().\n",
      "  self.best_estimator_.fit(X, y, **fit_params)\n"
     ]
    },
    {
     "name": "stdout",
     "output_type": "stream",
     "text": [
      "[[42  0  0  0  0]\n",
      " [14 27  0  5  1]\n",
      " [21  7 24  9  1]\n",
      " [14 12  0 23  0]\n",
      " [10  6  0 17 22]]\n",
      "              precision    recall  f1-score   support\n",
      "\n",
      "           1       0.42      1.00      0.59        42\n",
      "           2       0.52      0.57      0.55        47\n",
      "           3       1.00      0.39      0.56        62\n",
      "           4       0.43      0.47      0.45        49\n",
      "           6       0.92      0.40      0.56        55\n",
      "\n",
      "    accuracy                           0.54       255\n",
      "   macro avg       0.66      0.57      0.54       255\n",
      "weighted avg       0.69      0.54      0.54       255\n",
      "\n"
     ]
    }
   ],
   "source": [
    "# grid search\n",
    "\n",
    "from sklearn.model_selection import GridSearchCV\n",
    "\n",
    "grid_search = {'criterion': ['entropy', 'gini'],\n",
    "               'max_depth': [2],\n",
    "               'max_features': ['auto', 'sqrt'],\n",
    "               'min_samples_leaf': [4, 6, 8],\n",
    "               'min_samples_split': [5, 7,10],\n",
    "               'n_estimators': [20]}\n",
    "\n",
    "clf = RandomForestClassifier()\n",
    "model = GridSearchCV(estimator = clf, param_grid = grid_search, \n",
    "                               cv = 4, verbose= 5, n_jobs = -1)\n",
    "model.fit(X_Train,Y_Train)\n",
    "\n",
    "predictionforest = model.best_estimator_.predict(X_Test)\n",
    "print(confusion_matrix(Y_Test,predictionforest))\n",
    "print(classification_report(Y_Test,predictionforest))\n",
    "acc4 = accuracy_score(Y_Test,predictionforest)"
   ]
  },
  {
   "cell_type": "code",
   "execution_count": 137,
   "id": "5517e81d",
   "metadata": {},
   "outputs": [],
   "source": [
    "from hyperopt import hp, fmin, tpe, STATUS_OK, Trials"
   ]
  },
  {
   "cell_type": "code",
   "execution_count": 138,
   "id": "5bd59ce3",
   "metadata": {},
   "outputs": [
    {
     "name": "stdout",
     "output_type": "stream",
     "text": [
      "\r",
      "  0%|                                                                           | 0/20 [00:00<?, ?trial/s, best loss=?]"
     ]
    },
    {
     "name": "stderr",
     "output_type": "stream",
     "text": [
      "C:\\Users\\Lab PC\\AppData\\Roaming\\Python\\Python38\\site-packages\\sklearn\\model_selection\\_validation.py:531: DataConversionWarning: A column-vector y was passed when a 1d array was expected. Please change the shape of y to (n_samples,), for example using ravel().\n",
      "  estimator.fit(X_train, y_train, **fit_params)\n",
      "\n",
      "C:\\Users\\Lab PC\\AppData\\Roaming\\Python\\Python38\\site-packages\\sklearn\\model_selection\\_validation.py:531: DataConversionWarning: A column-vector y was passed when a 1d array was expected. Please change the shape of y to (n_samples,), for example using ravel().\n",
      "  estimator.fit(X_train, y_train, **fit_params)\n",
      "\n",
      "C:\\Users\\Lab PC\\AppData\\Roaming\\Python\\Python38\\site-packages\\sklearn\\model_selection\\_validation.py:531: DataConversionWarning: A column-vector y was passed when a 1d array was expected. Please change the shape of y to (n_samples,), for example using ravel().\n",
      "  estimator.fit(X_train, y_train, **fit_params)\n",
      "\n"
     ]
    },
    {
     "name": "stdout",
     "output_type": "stream",
     "text": [
      "\r",
      "  5%|██▍                                             | 1/20 [00:00<00:06,  2.96trial/s, best loss: -0.4454017776165427]"
     ]
    },
    {
     "name": "stderr",
     "output_type": "stream",
     "text": [
      "C:\\Users\\Lab PC\\AppData\\Roaming\\Python\\Python38\\site-packages\\sklearn\\model_selection\\_validation.py:531: DataConversionWarning: A column-vector y was passed when a 1d array was expected. Please change the shape of y to (n_samples,), for example using ravel().\n",
      "  estimator.fit(X_train, y_train, **fit_params)\n",
      "\n",
      "C:\\Users\\Lab PC\\AppData\\Roaming\\Python\\Python38\\site-packages\\sklearn\\model_selection\\_validation.py:531: DataConversionWarning: A column-vector y was passed when a 1d array was expected. Please change the shape of y to (n_samples,), for example using ravel().\n",
      "  estimator.fit(X_train, y_train, **fit_params)\n",
      "\n",
      "C:\\Users\\Lab PC\\AppData\\Roaming\\Python\\Python38\\site-packages\\sklearn\\model_selection\\_validation.py:531: DataConversionWarning: A column-vector y was passed when a 1d array was expected. Please change the shape of y to (n_samples,), for example using ravel().\n",
      "  estimator.fit(X_train, y_train, **fit_params)\n",
      "\n",
      "C:\\Users\\Lab PC\\AppData\\Roaming\\Python\\Python38\\site-packages\\sklearn\\model_selection\\_validation.py:531: DataConversionWarning: A column-vector y was passed when a 1d array was expected. Please change the shape of y to (n_samples,), for example using ravel().\n",
      "  estimator.fit(X_train, y_train, **fit_params)\n",
      "\n"
     ]
    },
    {
     "name": "stdout",
     "output_type": "stream",
     "text": [
      "\r",
      " 10%|████▊                                           | 2/20 [00:00<00:04,  4.27trial/s, best loss: -0.4454017776165427]"
     ]
    },
    {
     "name": "stderr",
     "output_type": "stream",
     "text": [
      "C:\\Users\\Lab PC\\AppData\\Roaming\\Python\\Python38\\site-packages\\sklearn\\model_selection\\_validation.py:531: DataConversionWarning: A column-vector y was passed when a 1d array was expected. Please change the shape of y to (n_samples,), for example using ravel().\n",
      "  estimator.fit(X_train, y_train, **fit_params)\n",
      "\n",
      "C:\\Users\\Lab PC\\AppData\\Roaming\\Python\\Python38\\site-packages\\sklearn\\model_selection\\_validation.py:531: DataConversionWarning: A column-vector y was passed when a 1d array was expected. Please change the shape of y to (n_samples,), for example using ravel().\n",
      "  estimator.fit(X_train, y_train, **fit_params)\n",
      "\n",
      "C:\\Users\\Lab PC\\AppData\\Roaming\\Python\\Python38\\site-packages\\sklearn\\model_selection\\_validation.py:531: DataConversionWarning: A column-vector y was passed when a 1d array was expected. Please change the shape of y to (n_samples,), for example using ravel().\n",
      "  estimator.fit(X_train, y_train, **fit_params)\n",
      "\n",
      "C:\\Users\\Lab PC\\AppData\\Roaming\\Python\\Python38\\site-packages\\sklearn\\model_selection\\_validation.py:531: DataConversionWarning: A column-vector y was passed when a 1d array was expected. Please change the shape of y to (n_samples,), for example using ravel().\n",
      "  estimator.fit(X_train, y_train, **fit_params)\n",
      "\n"
     ]
    },
    {
     "name": "stdout",
     "output_type": "stream",
     "text": [
      "\r",
      " 15%|███████▏                                        | 3/20 [00:00<00:04,  3.72trial/s, best loss: -0.4454017776165427]"
     ]
    },
    {
     "name": "stderr",
     "output_type": "stream",
     "text": [
      "C:\\Users\\Lab PC\\AppData\\Roaming\\Python\\Python38\\site-packages\\sklearn\\model_selection\\_validation.py:531: DataConversionWarning: A column-vector y was passed when a 1d array was expected. Please change the shape of y to (n_samples,), for example using ravel().\n",
      "  estimator.fit(X_train, y_train, **fit_params)\n",
      "\n",
      "C:\\Users\\Lab PC\\AppData\\Roaming\\Python\\Python38\\site-packages\\sklearn\\model_selection\\_validation.py:531: DataConversionWarning: A column-vector y was passed when a 1d array was expected. Please change the shape of y to (n_samples,), for example using ravel().\n",
      "  estimator.fit(X_train, y_train, **fit_params)\n",
      "\n",
      "C:\\Users\\Lab PC\\AppData\\Roaming\\Python\\Python38\\site-packages\\sklearn\\model_selection\\_validation.py:531: DataConversionWarning: A column-vector y was passed when a 1d array was expected. Please change the shape of y to (n_samples,), for example using ravel().\n",
      "  estimator.fit(X_train, y_train, **fit_params)\n",
      "\n",
      "C:\\Users\\Lab PC\\AppData\\Roaming\\Python\\Python38\\site-packages\\sklearn\\model_selection\\_validation.py:531: DataConversionWarning: A column-vector y was passed when a 1d array was expected. Please change the shape of y to (n_samples,), for example using ravel().\n",
      "  estimator.fit(X_train, y_train, **fit_params)\n",
      "\n",
      "C:\\Users\\Lab PC\\AppData\\Roaming\\Python\\Python38\\site-packages\\sklearn\\model_selection\\_validation.py:531: DataConversionWarning: A column-vector y was passed when a 1d array was expected. Please change the shape of y to (n_samples,), for example using ravel().\n",
      "  estimator.fit(X_train, y_train, **fit_params)\n",
      "\n"
     ]
    },
    {
     "name": "stdout",
     "output_type": "stream",
     "text": [
      " 25%|████████████                                    | 5/20 [00:01<00:05,  2.72trial/s, best loss: -0.4454017776165427]"
     ]
    },
    {
     "name": "stderr",
     "output_type": "stream",
     "text": [
      "C:\\Users\\Lab PC\\AppData\\Roaming\\Python\\Python38\\site-packages\\sklearn\\model_selection\\_validation.py:531: DataConversionWarning: A column-vector y was passed when a 1d array was expected. Please change the shape of y to (n_samples,), for example using ravel().\n",
      "  estimator.fit(X_train, y_train, **fit_params)\n",
      "\n",
      "C:\\Users\\Lab PC\\AppData\\Roaming\\Python\\Python38\\site-packages\\sklearn\\model_selection\\_validation.py:531: DataConversionWarning: A column-vector y was passed when a 1d array was expected. Please change the shape of y to (n_samples,), for example using ravel().\n",
      "  estimator.fit(X_train, y_train, **fit_params)\n",
      "\n",
      "C:\\Users\\Lab PC\\AppData\\Roaming\\Python\\Python38\\site-packages\\sklearn\\model_selection\\_validation.py:531: DataConversionWarning: A column-vector y was passed when a 1d array was expected. Please change the shape of y to (n_samples,), for example using ravel().\n",
      "  estimator.fit(X_train, y_train, **fit_params)\n",
      "\n",
      "C:\\Users\\Lab PC\\AppData\\Roaming\\Python\\Python38\\site-packages\\sklearn\\model_selection\\_validation.py:531: DataConversionWarning: A column-vector y was passed when a 1d array was expected. Please change the shape of y to (n_samples,), for example using ravel().\n",
      "  estimator.fit(X_train, y_train, **fit_params)\n",
      "\n",
      "C:\\Users\\Lab PC\\AppData\\Roaming\\Python\\Python38\\site-packages\\sklearn\\model_selection\\_validation.py:531: DataConversionWarning: A column-vector y was passed when a 1d array was expected. Please change the shape of y to (n_samples,), for example using ravel().\n",
      "  estimator.fit(X_train, y_train, **fit_params)\n",
      "\n",
      "C:\\Users\\Lab PC\\AppData\\Roaming\\Python\\Python38\\site-packages\\sklearn\\model_selection\\_validation.py:531: DataConversionWarning: A column-vector y was passed when a 1d array was expected. Please change the shape of y to (n_samples,), for example using ravel().\n",
      "  estimator.fit(X_train, y_train, **fit_params)\n",
      "\n",
      "C:\\Users\\Lab PC\\AppData\\Roaming\\Python\\Python38\\site-packages\\sklearn\\model_selection\\_validation.py:531: DataConversionWarning: A column-vector y was passed when a 1d array was expected. Please change the shape of y to (n_samples,), for example using ravel().\n",
      "  estimator.fit(X_train, y_train, **fit_params)\n",
      "\n",
      "C:\\Users\\Lab PC\\AppData\\Roaming\\Python\\Python38\\site-packages\\sklearn\\model_selection\\_validation.py:531: DataConversionWarning: A column-vector y was passed when a 1d array was expected. Please change the shape of y to (n_samples,), for example using ravel().\n",
      "  estimator.fit(X_train, y_train, **fit_params)\n",
      "\n"
     ]
    },
    {
     "name": "stdout",
     "output_type": "stream",
     "text": [
      " 35%|████████████████▊                               | 7/20 [00:02<00:03,  3.42trial/s, best loss: -0.4454017776165427]"
     ]
    },
    {
     "name": "stderr",
     "output_type": "stream",
     "text": [
      "C:\\Users\\Lab PC\\AppData\\Roaming\\Python\\Python38\\site-packages\\sklearn\\model_selection\\_validation.py:531: DataConversionWarning: A column-vector y was passed when a 1d array was expected. Please change the shape of y to (n_samples,), for example using ravel().\n",
      "  estimator.fit(X_train, y_train, **fit_params)\n",
      "\n",
      "C:\\Users\\Lab PC\\AppData\\Roaming\\Python\\Python38\\site-packages\\sklearn\\model_selection\\_validation.py:531: DataConversionWarning: A column-vector y was passed when a 1d array was expected. Please change the shape of y to (n_samples,), for example using ravel().\n",
      "  estimator.fit(X_train, y_train, **fit_params)\n",
      "\n",
      "C:\\Users\\Lab PC\\AppData\\Roaming\\Python\\Python38\\site-packages\\sklearn\\model_selection\\_validation.py:531: DataConversionWarning: A column-vector y was passed when a 1d array was expected. Please change the shape of y to (n_samples,), for example using ravel().\n",
      "  estimator.fit(X_train, y_train, **fit_params)\n",
      "\n",
      "C:\\Users\\Lab PC\\AppData\\Roaming\\Python\\Python38\\site-packages\\sklearn\\model_selection\\_validation.py:531: DataConversionWarning: A column-vector y was passed when a 1d array was expected. Please change the shape of y to (n_samples,), for example using ravel().\n",
      "  estimator.fit(X_train, y_train, **fit_params)\n",
      "\n",
      "C:\\Users\\Lab PC\\AppData\\Roaming\\Python\\Python38\\site-packages\\sklearn\\model_selection\\_validation.py:531: DataConversionWarning: A column-vector y was passed when a 1d array was expected. Please change the shape of y to (n_samples,), for example using ravel().\n",
      "  estimator.fit(X_train, y_train, **fit_params)\n",
      "\n"
     ]
    },
    {
     "name": "stdout",
     "output_type": "stream",
     "text": [
      "\r",
      " 40%|███████████████████▏                            | 8/20 [00:02<00:03,  3.95trial/s, best loss: -0.4454017776165427]"
     ]
    },
    {
     "name": "stderr",
     "output_type": "stream",
     "text": [
      "C:\\Users\\Lab PC\\AppData\\Roaming\\Python\\Python38\\site-packages\\sklearn\\model_selection\\_validation.py:531: DataConversionWarning: A column-vector y was passed when a 1d array was expected. Please change the shape of y to (n_samples,), for example using ravel().\n",
      "  estimator.fit(X_train, y_train, **fit_params)\n",
      "\n",
      "C:\\Users\\Lab PC\\AppData\\Roaming\\Python\\Python38\\site-packages\\sklearn\\model_selection\\_validation.py:531: DataConversionWarning: A column-vector y was passed when a 1d array was expected. Please change the shape of y to (n_samples,), for example using ravel().\n",
      "  estimator.fit(X_train, y_train, **fit_params)\n",
      "\n",
      "C:\\Users\\Lab PC\\AppData\\Roaming\\Python\\Python38\\site-packages\\sklearn\\model_selection\\_validation.py:531: DataConversionWarning: A column-vector y was passed when a 1d array was expected. Please change the shape of y to (n_samples,), for example using ravel().\n",
      "  estimator.fit(X_train, y_train, **fit_params)\n",
      "\n",
      "C:\\Users\\Lab PC\\AppData\\Roaming\\Python\\Python38\\site-packages\\sklearn\\model_selection\\_validation.py:531: DataConversionWarning: A column-vector y was passed when a 1d array was expected. Please change the shape of y to (n_samples,), for example using ravel().\n",
      "  estimator.fit(X_train, y_train, **fit_params)\n",
      "\n",
      "C:\\Users\\Lab PC\\AppData\\Roaming\\Python\\Python38\\site-packages\\sklearn\\model_selection\\_validation.py:531: DataConversionWarning: A column-vector y was passed when a 1d array was expected. Please change the shape of y to (n_samples,), for example using ravel().\n",
      "  estimator.fit(X_train, y_train, **fit_params)\n",
      "\n"
     ]
    },
    {
     "name": "stdout",
     "output_type": "stream",
     "text": [
      "\r",
      " 45%|█████████████████████▌                          | 9/20 [00:02<00:02,  3.68trial/s, best loss: -0.4454017776165427]"
     ]
    },
    {
     "name": "stderr",
     "output_type": "stream",
     "text": [
      "C:\\Users\\Lab PC\\AppData\\Roaming\\Python\\Python38\\site-packages\\sklearn\\model_selection\\_validation.py:531: DataConversionWarning: A column-vector y was passed when a 1d array was expected. Please change the shape of y to (n_samples,), for example using ravel().\n",
      "  estimator.fit(X_train, y_train, **fit_params)\n",
      "\n",
      "C:\\Users\\Lab PC\\AppData\\Roaming\\Python\\Python38\\site-packages\\sklearn\\model_selection\\_validation.py:531: DataConversionWarning: A column-vector y was passed when a 1d array was expected. Please change the shape of y to (n_samples,), for example using ravel().\n",
      "  estimator.fit(X_train, y_train, **fit_params)\n",
      "\n",
      "C:\\Users\\Lab PC\\AppData\\Roaming\\Python\\Python38\\site-packages\\sklearn\\model_selection\\_validation.py:531: DataConversionWarning: A column-vector y was passed when a 1d array was expected. Please change the shape of y to (n_samples,), for example using ravel().\n",
      "  estimator.fit(X_train, y_train, **fit_params)\n",
      "\n"
     ]
    },
    {
     "name": "stdout",
     "output_type": "stream",
     "text": [
      "\r",
      " 50%|███████████████████████▌                       | 10/20 [00:03<00:02,  3.51trial/s, best loss: -0.4454017776165427]"
     ]
    },
    {
     "name": "stderr",
     "output_type": "stream",
     "text": [
      "C:\\Users\\Lab PC\\AppData\\Roaming\\Python\\Python38\\site-packages\\sklearn\\model_selection\\_validation.py:531: DataConversionWarning: A column-vector y was passed when a 1d array was expected. Please change the shape of y to (n_samples,), for example using ravel().\n",
      "  estimator.fit(X_train, y_train, **fit_params)\n",
      "\n",
      "C:\\Users\\Lab PC\\AppData\\Roaming\\Python\\Python38\\site-packages\\sklearn\\model_selection\\_validation.py:531: DataConversionWarning: A column-vector y was passed when a 1d array was expected. Please change the shape of y to (n_samples,), for example using ravel().\n",
      "  estimator.fit(X_train, y_train, **fit_params)\n",
      "\n",
      "C:\\Users\\Lab PC\\AppData\\Roaming\\Python\\Python38\\site-packages\\sklearn\\model_selection\\_validation.py:531: DataConversionWarning: A column-vector y was passed when a 1d array was expected. Please change the shape of y to (n_samples,), for example using ravel().\n",
      "  estimator.fit(X_train, y_train, **fit_params)\n",
      "\n",
      "C:\\Users\\Lab PC\\AppData\\Roaming\\Python\\Python38\\site-packages\\sklearn\\model_selection\\_validation.py:531: DataConversionWarning: A column-vector y was passed when a 1d array was expected. Please change the shape of y to (n_samples,), for example using ravel().\n",
      "  estimator.fit(X_train, y_train, **fit_params)\n",
      "\n",
      "C:\\Users\\Lab PC\\AppData\\Roaming\\Python\\Python38\\site-packages\\sklearn\\model_selection\\_validation.py:531: DataConversionWarning: A column-vector y was passed when a 1d array was expected. Please change the shape of y to (n_samples,), for example using ravel().\n",
      "  estimator.fit(X_train, y_train, **fit_params)\n",
      "\n",
      "C:\\Users\\Lab PC\\AppData\\Roaming\\Python\\Python38\\site-packages\\sklearn\\model_selection\\_validation.py:531: DataConversionWarning: A column-vector y was passed when a 1d array was expected. Please change the shape of y to (n_samples,), for example using ravel().\n",
      "  estimator.fit(X_train, y_train, **fit_params)\n",
      "\n"
     ]
    },
    {
     "name": "stdout",
     "output_type": "stream",
     "text": [
      "\r",
      " 55%|█████████████████████████▊                     | 11/20 [00:03<00:02,  3.40trial/s, best loss: -0.4454017776165427]"
     ]
    },
    {
     "name": "stderr",
     "output_type": "stream",
     "text": [
      "C:\\Users\\Lab PC\\AppData\\Roaming\\Python\\Python38\\site-packages\\sklearn\\model_selection\\_validation.py:531: DataConversionWarning: A column-vector y was passed when a 1d array was expected. Please change the shape of y to (n_samples,), for example using ravel().\n",
      "  estimator.fit(X_train, y_train, **fit_params)\n",
      "\n",
      "C:\\Users\\Lab PC\\AppData\\Roaming\\Python\\Python38\\site-packages\\sklearn\\model_selection\\_validation.py:531: DataConversionWarning: A column-vector y was passed when a 1d array was expected. Please change the shape of y to (n_samples,), for example using ravel().\n",
      "  estimator.fit(X_train, y_train, **fit_params)\n",
      "\n",
      "C:\\Users\\Lab PC\\AppData\\Roaming\\Python\\Python38\\site-packages\\sklearn\\model_selection\\_validation.py:531: DataConversionWarning: A column-vector y was passed when a 1d array was expected. Please change the shape of y to (n_samples,), for example using ravel().\n",
      "  estimator.fit(X_train, y_train, **fit_params)\n",
      "\n"
     ]
    },
    {
     "name": "stdout",
     "output_type": "stream",
     "text": [
      "\r",
      " 60%|████████████████████████████▊                   | 12/20 [00:03<00:02,  3.25trial/s, best loss: -0.475705151460185]"
     ]
    },
    {
     "name": "stderr",
     "output_type": "stream",
     "text": [
      "C:\\Users\\Lab PC\\AppData\\Roaming\\Python\\Python38\\site-packages\\sklearn\\model_selection\\_validation.py:531: DataConversionWarning: A column-vector y was passed when a 1d array was expected. Please change the shape of y to (n_samples,), for example using ravel().\n",
      "  estimator.fit(X_train, y_train, **fit_params)\n",
      "\n",
      "C:\\Users\\Lab PC\\AppData\\Roaming\\Python\\Python38\\site-packages\\sklearn\\model_selection\\_validation.py:531: DataConversionWarning: A column-vector y was passed when a 1d array was expected. Please change the shape of y to (n_samples,), for example using ravel().\n",
      "  estimator.fit(X_train, y_train, **fit_params)\n",
      "\n",
      "C:\\Users\\Lab PC\\AppData\\Roaming\\Python\\Python38\\site-packages\\sklearn\\model_selection\\_validation.py:531: DataConversionWarning: A column-vector y was passed when a 1d array was expected. Please change the shape of y to (n_samples,), for example using ravel().\n",
      "  estimator.fit(X_train, y_train, **fit_params)\n",
      "\n"
     ]
    },
    {
     "name": "stdout",
     "output_type": "stream",
     "text": [
      "\r",
      " 65%|███████████████████████████████▏                | 13/20 [00:03<00:01,  3.76trial/s, best loss: -0.475705151460185]"
     ]
    },
    {
     "name": "stderr",
     "output_type": "stream",
     "text": [
      "C:\\Users\\Lab PC\\AppData\\Roaming\\Python\\Python38\\site-packages\\sklearn\\model_selection\\_validation.py:531: DataConversionWarning: A column-vector y was passed when a 1d array was expected. Please change the shape of y to (n_samples,), for example using ravel().\n",
      "  estimator.fit(X_train, y_train, **fit_params)\n",
      "\n",
      "C:\\Users\\Lab PC\\AppData\\Roaming\\Python\\Python38\\site-packages\\sklearn\\model_selection\\_validation.py:531: DataConversionWarning: A column-vector y was passed when a 1d array was expected. Please change the shape of y to (n_samples,), for example using ravel().\n",
      "  estimator.fit(X_train, y_train, **fit_params)\n",
      "\n",
      "C:\\Users\\Lab PC\\AppData\\Roaming\\Python\\Python38\\site-packages\\sklearn\\model_selection\\_validation.py:531: DataConversionWarning: A column-vector y was passed when a 1d array was expected. Please change the shape of y to (n_samples,), for example using ravel().\n",
      "  estimator.fit(X_train, y_train, **fit_params)\n",
      "\n",
      "C:\\Users\\Lab PC\\AppData\\Roaming\\Python\\Python38\\site-packages\\sklearn\\model_selection\\_validation.py:531: DataConversionWarning: A column-vector y was passed when a 1d array was expected. Please change the shape of y to (n_samples,), for example using ravel().\n",
      "  estimator.fit(X_train, y_train, **fit_params)\n",
      "\n",
      "C:\\Users\\Lab PC\\AppData\\Roaming\\Python\\Python38\\site-packages\\sklearn\\model_selection\\_validation.py:531: DataConversionWarning: A column-vector y was passed when a 1d array was expected. Please change the shape of y to (n_samples,), for example using ravel().\n",
      "  estimator.fit(X_train, y_train, **fit_params)\n",
      "\n",
      "C:\\Users\\Lab PC\\AppData\\Roaming\\Python\\Python38\\site-packages\\sklearn\\model_selection\\_validation.py:531: DataConversionWarning: A column-vector y was passed when a 1d array was expected. Please change the shape of y to (n_samples,), for example using ravel().\n",
      "  estimator.fit(X_train, y_train, **fit_params)\n",
      "\n",
      "C:\\Users\\Lab PC\\AppData\\Roaming\\Python\\Python38\\site-packages\\sklearn\\model_selection\\_validation.py:531: DataConversionWarning: A column-vector y was passed when a 1d array was expected. Please change the shape of y to (n_samples,), for example using ravel().\n",
      "  estimator.fit(X_train, y_train, **fit_params)\n",
      "\n"
     ]
    },
    {
     "name": "stdout",
     "output_type": "stream",
     "text": [
      "\r",
      " 70%|████████████████████████████████▉              | 14/20 [00:04<00:01,  3.30trial/s, best loss: -0.5093302194812263]"
     ]
    },
    {
     "name": "stderr",
     "output_type": "stream",
     "text": [
      "C:\\Users\\Lab PC\\AppData\\Roaming\\Python\\Python38\\site-packages\\sklearn\\model_selection\\_validation.py:531: DataConversionWarning: A column-vector y was passed when a 1d array was expected. Please change the shape of y to (n_samples,), for example using ravel().\n",
      "  estimator.fit(X_train, y_train, **fit_params)\n",
      "\n",
      "C:\\Users\\Lab PC\\AppData\\Roaming\\Python\\Python38\\site-packages\\sklearn\\model_selection\\_validation.py:531: DataConversionWarning: A column-vector y was passed when a 1d array was expected. Please change the shape of y to (n_samples,), for example using ravel().\n",
      "  estimator.fit(X_train, y_train, **fit_params)\n",
      "\n",
      "C:\\Users\\Lab PC\\AppData\\Roaming\\Python\\Python38\\site-packages\\sklearn\\model_selection\\_validation.py:531: DataConversionWarning: A column-vector y was passed when a 1d array was expected. Please change the shape of y to (n_samples,), for example using ravel().\n",
      "  estimator.fit(X_train, y_train, **fit_params)\n",
      "\n"
     ]
    },
    {
     "name": "stdout",
     "output_type": "stream",
     "text": [
      "\r",
      " 75%|███████████████████████████████████▎           | 15/20 [00:04<00:01,  3.18trial/s, best loss: -0.5093302194812263]"
     ]
    },
    {
     "name": "stderr",
     "output_type": "stream",
     "text": [
      "C:\\Users\\Lab PC\\AppData\\Roaming\\Python\\Python38\\site-packages\\sklearn\\model_selection\\_validation.py:531: DataConversionWarning: A column-vector y was passed when a 1d array was expected. Please change the shape of y to (n_samples,), for example using ravel().\n",
      "  estimator.fit(X_train, y_train, **fit_params)\n",
      "\n",
      "C:\\Users\\Lab PC\\AppData\\Roaming\\Python\\Python38\\site-packages\\sklearn\\model_selection\\_validation.py:531: DataConversionWarning: A column-vector y was passed when a 1d array was expected. Please change the shape of y to (n_samples,), for example using ravel().\n",
      "  estimator.fit(X_train, y_train, **fit_params)\n",
      "\n",
      "C:\\Users\\Lab PC\\AppData\\Roaming\\Python\\Python38\\site-packages\\sklearn\\model_selection\\_validation.py:531: DataConversionWarning: A column-vector y was passed when a 1d array was expected. Please change the shape of y to (n_samples,), for example using ravel().\n",
      "  estimator.fit(X_train, y_train, **fit_params)\n",
      "\n",
      "C:\\Users\\Lab PC\\AppData\\Roaming\\Python\\Python38\\site-packages\\sklearn\\model_selection\\_validation.py:531: DataConversionWarning: A column-vector y was passed when a 1d array was expected. Please change the shape of y to (n_samples,), for example using ravel().\n",
      "  estimator.fit(X_train, y_train, **fit_params)\n",
      "\n"
     ]
    },
    {
     "name": "stdout",
     "output_type": "stream",
     "text": [
      " 85%|███████████████████████████████████████▉       | 17/20 [00:04<00:00,  4.16trial/s, best loss: -0.5093302194812263]"
     ]
    },
    {
     "name": "stderr",
     "output_type": "stream",
     "text": [
      "C:\\Users\\Lab PC\\AppData\\Roaming\\Python\\Python38\\site-packages\\sklearn\\model_selection\\_validation.py:531: DataConversionWarning: A column-vector y was passed when a 1d array was expected. Please change the shape of y to (n_samples,), for example using ravel().\n",
      "  estimator.fit(X_train, y_train, **fit_params)\n",
      "\n",
      "C:\\Users\\Lab PC\\AppData\\Roaming\\Python\\Python38\\site-packages\\sklearn\\model_selection\\_validation.py:531: DataConversionWarning: A column-vector y was passed when a 1d array was expected. Please change the shape of y to (n_samples,), for example using ravel().\n",
      "  estimator.fit(X_train, y_train, **fit_params)\n",
      "\n",
      "C:\\Users\\Lab PC\\AppData\\Roaming\\Python\\Python38\\site-packages\\sklearn\\model_selection\\_validation.py:531: DataConversionWarning: A column-vector y was passed when a 1d array was expected. Please change the shape of y to (n_samples,), for example using ravel().\n",
      "  estimator.fit(X_train, y_train, **fit_params)\n",
      "\n",
      "C:\\Users\\Lab PC\\AppData\\Roaming\\Python\\Python38\\site-packages\\sklearn\\model_selection\\_validation.py:531: DataConversionWarning: A column-vector y was passed when a 1d array was expected. Please change the shape of y to (n_samples,), for example using ravel().\n",
      "  estimator.fit(X_train, y_train, **fit_params)\n",
      "\n",
      "C:\\Users\\Lab PC\\AppData\\Roaming\\Python\\Python38\\site-packages\\sklearn\\model_selection\\_validation.py:531: DataConversionWarning: A column-vector y was passed when a 1d array was expected. Please change the shape of y to (n_samples,), for example using ravel().\n",
      "  estimator.fit(X_train, y_train, **fit_params)\n",
      "\n"
     ]
    },
    {
     "name": "stdout",
     "output_type": "stream",
     "text": [
      "\r",
      " 90%|██████████████████████████████████████████▎    | 18/20 [00:05<00:00,  4.60trial/s, best loss: -0.5093302194812263]"
     ]
    },
    {
     "name": "stderr",
     "output_type": "stream",
     "text": [
      "C:\\Users\\Lab PC\\AppData\\Roaming\\Python\\Python38\\site-packages\\sklearn\\model_selection\\_validation.py:531: DataConversionWarning: A column-vector y was passed when a 1d array was expected. Please change the shape of y to (n_samples,), for example using ravel().\n",
      "  estimator.fit(X_train, y_train, **fit_params)\n",
      "\n",
      "C:\\Users\\Lab PC\\AppData\\Roaming\\Python\\Python38\\site-packages\\sklearn\\model_selection\\_validation.py:531: DataConversionWarning: A column-vector y was passed when a 1d array was expected. Please change the shape of y to (n_samples,), for example using ravel().\n",
      "  estimator.fit(X_train, y_train, **fit_params)\n",
      "\n",
      "C:\\Users\\Lab PC\\AppData\\Roaming\\Python\\Python38\\site-packages\\sklearn\\model_selection\\_validation.py:531: DataConversionWarning: A column-vector y was passed when a 1d array was expected. Please change the shape of y to (n_samples,), for example using ravel().\n",
      "  estimator.fit(X_train, y_train, **fit_params)\n",
      "\n",
      "C:\\Users\\Lab PC\\AppData\\Roaming\\Python\\Python38\\site-packages\\sklearn\\model_selection\\_validation.py:531: DataConversionWarning: A column-vector y was passed when a 1d array was expected. Please change the shape of y to (n_samples,), for example using ravel().\n",
      "  estimator.fit(X_train, y_train, **fit_params)\n",
      "\n",
      "C:\\Users\\Lab PC\\AppData\\Roaming\\Python\\Python38\\site-packages\\sklearn\\model_selection\\_validation.py:531: DataConversionWarning: A column-vector y was passed when a 1d array was expected. Please change the shape of y to (n_samples,), for example using ravel().\n",
      "  estimator.fit(X_train, y_train, **fit_params)\n",
      "\n"
     ]
    },
    {
     "name": "stdout",
     "output_type": "stream",
     "text": [
      "\r",
      " 95%|████████████████████████████████████████████▋  | 19/20 [00:05<00:00,  4.99trial/s, best loss: -0.5093302194812263]"
     ]
    },
    {
     "name": "stderr",
     "output_type": "stream",
     "text": [
      "C:\\Users\\Lab PC\\AppData\\Roaming\\Python\\Python38\\site-packages\\sklearn\\model_selection\\_validation.py:531: DataConversionWarning: A column-vector y was passed when a 1d array was expected. Please change the shape of y to (n_samples,), for example using ravel().\n",
      "  estimator.fit(X_train, y_train, **fit_params)\n",
      "\n",
      "C:\\Users\\Lab PC\\AppData\\Roaming\\Python\\Python38\\site-packages\\sklearn\\model_selection\\_validation.py:531: DataConversionWarning: A column-vector y was passed when a 1d array was expected. Please change the shape of y to (n_samples,), for example using ravel().\n",
      "  estimator.fit(X_train, y_train, **fit_params)\n",
      "\n",
      "C:\\Users\\Lab PC\\AppData\\Roaming\\Python\\Python38\\site-packages\\sklearn\\model_selection\\_validation.py:531: DataConversionWarning: A column-vector y was passed when a 1d array was expected. Please change the shape of y to (n_samples,), for example using ravel().\n",
      "  estimator.fit(X_train, y_train, **fit_params)\n",
      "\n",
      "C:\\Users\\Lab PC\\AppData\\Roaming\\Python\\Python38\\site-packages\\sklearn\\model_selection\\_validation.py:531: DataConversionWarning: A column-vector y was passed when a 1d array was expected. Please change the shape of y to (n_samples,), for example using ravel().\n",
      "  estimator.fit(X_train, y_train, **fit_params)\n",
      "\n",
      "C:\\Users\\Lab PC\\AppData\\Roaming\\Python\\Python38\\site-packages\\sklearn\\model_selection\\_validation.py:531: DataConversionWarning: A column-vector y was passed when a 1d array was expected. Please change the shape of y to (n_samples,), for example using ravel().\n",
      "  estimator.fit(X_train, y_train, **fit_params)\n",
      "\n"
     ]
    },
    {
     "name": "stdout",
     "output_type": "stream",
     "text": [
      "100%|███████████████████████████████████████████████| 20/20 [00:05<00:00,  3.56trial/s, best loss: -0.5093302194812263]\n"
     ]
    },
    {
     "name": "stderr",
     "output_type": "stream",
     "text": [
      "C:\\Users\\Lab PC\\AppData\\Roaming\\Python\\Python38\\site-packages\\sklearn\\model_selection\\_validation.py:531: DataConversionWarning: A column-vector y was passed when a 1d array was expected. Please change the shape of y to (n_samples,), for example using ravel().\n",
      "  estimator.fit(X_train, y_train, **fit_params)\n",
      "\n",
      "C:\\Users\\Lab PC\\AppData\\Roaming\\Python\\Python38\\site-packages\\sklearn\\model_selection\\_validation.py:531: DataConversionWarning: A column-vector y was passed when a 1d array was expected. Please change the shape of y to (n_samples,), for example using ravel().\n",
      "  estimator.fit(X_train, y_train, **fit_params)\n",
      "\n"
     ]
    },
    {
     "data": {
      "text/plain": [
       "{'criterion': 0,\n",
       " 'max_depth': 10.0,\n",
       " 'max_features': 3,\n",
       " 'min_samples_leaf': 0.12345165483009846,\n",
       " 'min_samples_split': 0.06065293803454541,\n",
       " 'n_estimators': 0}"
      ]
     },
     "execution_count": 138,
     "metadata": {},
     "output_type": "execute_result"
    }
   ],
   "source": [
    "space = {'criterion': hp.choice('criterion', ['entropy', 'gini']),\n",
    "        'max_depth': hp.quniform('max_depth', 10, 12, 10),\n",
    "        'max_features': hp.choice('max_features', ['auto', 'sqrt','log2', None]),\n",
    "        'min_samples_leaf': hp.uniform ('min_samples_leaf', 0, 0.5),\n",
    "        'min_samples_split' : hp.uniform ('min_samples_split', 0, 1),\n",
    "        'n_estimators' : hp.choice('n_estimators', [10, 50])\n",
    "    }\n",
    "\n",
    "def objective(space):\n",
    "    model = RandomForestClassifier(criterion = space['criterion'], \n",
    "                                   max_depth = space['max_depth'],\n",
    "                                 max_features = space['max_features'],\n",
    "                                 min_samples_leaf = space['min_samples_leaf'],\n",
    "                                 min_samples_split = space['min_samples_split'],\n",
    "                                 n_estimators = space['n_estimators'], \n",
    "                                 )\n",
    "    \n",
    "    accuracy = cross_val_score(model, X_Train, Y_Train, cv = 4).mean()\n",
    "\n",
    "    # We aim to maximize accuracy, therefore we return it as a negative value\n",
    "    return {'loss': -accuracy, 'status': STATUS_OK }\n",
    "    \n",
    "trials = Trials()\n",
    "best = fmin(fn= objective,\n",
    "            space= space,\n",
    "            algo= tpe.suggest,\n",
    "            max_evals = 20,\n",
    "            trials= trials)\n",
    "best"
   ]
  },
  {
   "cell_type": "code",
   "execution_count": 139,
   "id": "94fed803",
   "metadata": {},
   "outputs": [
    {
     "name": "stdout",
     "output_type": "stream",
     "text": [
      "[[36  0  0  0  6]\n",
      " [ 0 27  0  6 14]\n",
      " [17 12  0 11 22]\n",
      " [ 1 11  0 22 15]\n",
      " [ 2 12  0 19 22]]\n",
      "              precision    recall  f1-score   support\n",
      "\n",
      "           1       0.64      0.86      0.73        42\n",
      "           2       0.44      0.57      0.50        47\n",
      "           3       0.00      0.00      0.00        62\n",
      "           4       0.38      0.45      0.41        49\n",
      "           6       0.28      0.40      0.33        55\n",
      "\n",
      "    accuracy                           0.42       255\n",
      "   macro avg       0.35      0.46      0.39       255\n",
      "weighted avg       0.32      0.42      0.36       255\n",
      "\n"
     ]
    },
    {
     "name": "stderr",
     "output_type": "stream",
     "text": [
      "<ipython-input-139-78b270822961>:5: DataConversionWarning: A column-vector y was passed when a 1d array was expected. Please change the shape of y to (n_samples,), for example using ravel().\n",
      "  trainedforest = RandomForestClassifier(criterion = crit[best['criterion']],\n",
      "C:\\Users\\Lab PC\\AppData\\Roaming\\Python\\Python38\\site-packages\\sklearn\\metrics\\_classification.py:1221: UndefinedMetricWarning: Precision and F-score are ill-defined and being set to 0.0 in labels with no predicted samples. Use `zero_division` parameter to control this behavior.\n",
      "  _warn_prf(average, modifier, msg_start, len(result))\n"
     ]
    }
   ],
   "source": [
    "crit = {0: 'entropy', 1: 'gini'}\n",
    "feat = {0: 'auto', 1: 'sqrt', 2: 'log2', 3: None}\n",
    "est = {0: 10, 1: 50, 2: 75, 3: 100, 4: 125}\n",
    "\n",
    "trainedforest = RandomForestClassifier(criterion = crit[best['criterion']], \n",
    "                                       max_depth = best['max_depth'], \n",
    "                                       max_features = feat[best['max_features']], \n",
    "                                       min_samples_leaf = best['min_samples_leaf'], \n",
    "                                       min_samples_split = best['min_samples_split'], \n",
    "                                       n_estimators = est[best['n_estimators']]\n",
    "                                      ).fit(X_Train,Y_Train)\n",
    "predictionforest = trainedforest.predict(X_Test)\n",
    "print(confusion_matrix(Y_Test,predictionforest))\n",
    "print(classification_report(Y_Test,predictionforest))\n",
    "acc5 = accuracy_score(Y_Test,predictionforest)"
   ]
  },
  {
   "cell_type": "code",
   "execution_count": 140,
   "id": "0767e7a9",
   "metadata": {},
   "outputs": [
    {
     "name": "stderr",
     "output_type": "stream",
     "text": [
      "C:\\Users\\Lab PC\\AppData\\Roaming\\Python\\Python38\\site-packages\\sklearn\\utils\\validation.py:73: DataConversionWarning: A column-vector y was passed when a 1d array was expected. Please change the shape of y to (n_samples, ), for example using ravel().\n",
      "  return f(**kwargs)\n"
     ]
    },
    {
     "data": {
      "application/vnd.jupyter.widget-view+json": {
       "model_id": "",
       "version_major": 2,
       "version_minor": 0
      },
      "text/plain": [
       "Optimization Progress:   0%|          | 0/144 [00:00<?, ?pipeline/s]"
      ]
     },
     "metadata": {},
     "output_type": "display_data"
    },
    {
     "name": "stdout",
     "output_type": "stream",
     "text": [
      "\n",
      "Generation 1 - Current best internal CV score: 0.6621848739495798\n",
      "\n",
      "Generation 2 - Current best internal CV score: 0.6722689075630253\n",
      "\n",
      "Generation 3 - Current best internal CV score: 0.6722689075630253\n",
      "\n",
      "Generation 4 - Current best internal CV score: 0.6722689075630253\n",
      "\n",
      "Generation 5 - Current best internal CV score: 0.6722689075630253\n",
      "\n",
      "Generation 6 - Current best internal CV score: 0.6789915966386555\n",
      "\n",
      "Generation 7 - Current best internal CV score: 0.6974789915966386\n",
      "\n",
      "Generation 8 - Current best internal CV score: 0.6974789915966386\n",
      "\n",
      "Generation 9 - Current best internal CV score: 0.6974789915966386\n",
      "\n",
      "Generation 10 - Current best internal CV score: 0.6974789915966386\n",
      "\n",
      "Best pipeline: RandomForestClassifier(RandomForestClassifier(RandomForestClassifier(CombineDFs(input_matrix, CombineDFs(input_matrix, input_matrix)), criterion=gini, max_depth=2, max_features=auto, min_samples_leaf=12, min_samples_split=5, n_estimators=10), criterion=gini, max_depth=2, max_features=auto, min_samples_leaf=12, min_samples_split=10, n_estimators=10), criterion=gini, max_depth=2, max_features=auto, min_samples_leaf=4, min_samples_split=10, n_estimators=10)\n"
     ]
    },
    {
     "data": {
      "text/plain": [
       "TPOTClassifier(config_dict={'sklearn.ensemble.RandomForestClassifier': {'criterion': ['entropy',\n",
       "                                                                                      'gini'],\n",
       "                                                                        'max_depth': [2],\n",
       "                                                                        'max_features': ['auto'],\n",
       "                                                                        'min_samples_leaf': [4,\n",
       "                                                                                             12],\n",
       "                                                                        'min_samples_split': [5,\n",
       "                                                                                              10],\n",
       "                                                                        'n_estimators': [10]}},\n",
       "               early_stop=12, generations=10, offspring_size=12,\n",
       "               population_size=24, scoring='accuracy', verbosity=2)"
      ]
     },
     "execution_count": 140,
     "metadata": {},
     "output_type": "execute_result"
    }
   ],
   "source": [
    "# Genetic algorithms using TPOT\n",
    "\n",
    "from tpot import TPOTClassifier\n",
    "\n",
    "parameters = {'criterion': ['entropy', 'gini'],\n",
    "               'max_depth': [2],\n",
    "               'max_features': ['auto'],\n",
    "               'min_samples_leaf': [4, 12],\n",
    "               'min_samples_split': [5, 10],\n",
    "               'n_estimators': [10]}\n",
    "               \n",
    "tpot_classifier = TPOTClassifier(generations= 10, population_size= 24, offspring_size= 12,\n",
    "                                 verbosity= 2, early_stop= 12,\n",
    "                                 config_dict=\n",
    "                                 {'sklearn.ensemble.RandomForestClassifier': parameters}, \n",
    "                                 cv = 5, scoring = 'accuracy')\n",
    "tpot_classifier.fit(X_Train,Y_Train)"
   ]
  },
  {
   "cell_type": "code",
   "execution_count": 141,
   "id": "38655a00",
   "metadata": {},
   "outputs": [
    {
     "name": "stdout",
     "output_type": "stream",
     "text": [
      "0.6078431372549019\n"
     ]
    },
    {
     "name": "stderr",
     "output_type": "stream",
     "text": [
      "C:\\Users\\Lab PC\\AppData\\Roaming\\Python\\Python38\\site-packages\\sklearn\\utils\\validation.py:73: DataConversionWarning: A column-vector y was passed when a 1d array was expected. Please change the shape of y to (n_samples, ), for example using ravel().\n",
      "  return f(**kwargs)\n"
     ]
    }
   ],
   "source": [
    "accuracy = tpot_classifier.score(X_Test, Y_Test)\n",
    "print(accuracy)"
   ]
  },
  {
   "cell_type": "code",
   "execution_count": 142,
   "id": "eed39e9a",
   "metadata": {},
   "outputs": [],
   "source": [
    "# Artificial Neural Networks (ANNs) Tuning \n",
    "from keras.models import Sequential\n",
    "from keras.layers import Dense, Dropout\n",
    "from keras.wrappers.scikit_learn import KerasClassifier"
   ]
  },
  {
   "cell_type": "code",
   "execution_count": 144,
   "id": "9176b5b7",
   "metadata": {},
   "outputs": [
    {
     "data": {
      "text/plain": [
       "2255"
      ]
     },
     "execution_count": 144,
     "metadata": {},
     "output_type": "execute_result"
    }
   ],
   "source": [
    "X_Train.shape[1]"
   ]
  },
  {
   "cell_type": "code",
   "execution_count": 155,
   "id": "a79436c0",
   "metadata": {},
   "outputs": [
    {
     "data": {
      "text/plain": [
       "(595, 1)"
      ]
     },
     "execution_count": 155,
     "metadata": {},
     "output_type": "execute_result"
    }
   ],
   "source": [
    "Y_Train.shape"
   ]
  },
  {
   "cell_type": "code",
   "execution_count": 159,
   "id": "b25d4a78",
   "metadata": {},
   "outputs": [],
   "source": [
    "def DL_Model(activation= 'linear', neurons= 5, optimizer='Adam'):\n",
    "    model = Sequential()\n",
    "    model.add(Dense(neurons, input_dim= X_Train.shape[1], activation= activation))\n",
    "    model.add(Dense(neurons, activation= activation))\n",
    "    model.add(Dropout(0.3))\n",
    "    model.add(Dense(5, activation='softmax'))\n",
    "    model.compile(loss='categorical_crossentropy', optimizer= optimizer, metrics=['accuracy'])\n",
    "    return model"
   ]
  },
  {
   "cell_type": "code",
   "execution_count": 160,
   "id": "20167146",
   "metadata": {},
   "outputs": [],
   "source": [
    "# Defining grid parameters\n",
    "activation = ['softmax', 'relu']\n",
    "neurons = [5, 16, 32, 64]\n",
    "optimizer = ['Adam', 'Adamax']\n",
    "param_grid = dict(activation = activation, neurons = neurons, optimizer = optimizer)\n",
    "\n",
    "clf = KerasClassifier(build_fn= DL_Model, epochs= 500, batch_size=1024, verbose= 2)"
   ]
  },
  {
   "cell_type": "code",
   "execution_count": 161,
   "id": "46c9bb41",
   "metadata": {},
   "outputs": [
    {
     "name": "stdout",
     "output_type": "stream",
     "text": [
      "Epoch 1/500\n"
     ]
    },
    {
     "ename": "ValueError",
     "evalue": "in user code:\n\n    C:\\Users\\Lab PC\\AppData\\Roaming\\Python\\Python38\\site-packages\\keras\\engine\\training.py:853 train_function  *\n        return step_function(self, iterator)\n    C:\\Users\\Lab PC\\AppData\\Roaming\\Python\\Python38\\site-packages\\keras\\engine\\training.py:842 step_function  **\n        outputs = model.distribute_strategy.run(run_step, args=(data,))\n    C:\\Users\\Lab PC\\AppData\\Roaming\\Python\\Python38\\site-packages\\tensorflow\\python\\distribute\\distribute_lib.py:1286 run\n        return self._extended.call_for_each_replica(fn, args=args, kwargs=kwargs)\n    C:\\Users\\Lab PC\\AppData\\Roaming\\Python\\Python38\\site-packages\\tensorflow\\python\\distribute\\distribute_lib.py:2849 call_for_each_replica\n        return self._call_for_each_replica(fn, args, kwargs)\n    C:\\Users\\Lab PC\\AppData\\Roaming\\Python\\Python38\\site-packages\\tensorflow\\python\\distribute\\distribute_lib.py:3632 _call_for_each_replica\n        return fn(*args, **kwargs)\n    C:\\Users\\Lab PC\\AppData\\Roaming\\Python\\Python38\\site-packages\\keras\\engine\\training.py:835 run_step  **\n        outputs = model.train_step(data)\n    C:\\Users\\Lab PC\\AppData\\Roaming\\Python\\Python38\\site-packages\\keras\\engine\\training.py:788 train_step\n        loss = self.compiled_loss(\n    C:\\Users\\Lab PC\\AppData\\Roaming\\Python\\Python38\\site-packages\\keras\\engine\\compile_utils.py:201 __call__\n        loss_value = loss_obj(y_t, y_p, sample_weight=sw)\n    C:\\Users\\Lab PC\\AppData\\Roaming\\Python\\Python38\\site-packages\\keras\\losses.py:141 __call__\n        losses = call_fn(y_true, y_pred)\n    C:\\Users\\Lab PC\\AppData\\Roaming\\Python\\Python38\\site-packages\\keras\\losses.py:245 call  **\n        return ag_fn(y_true, y_pred, **self._fn_kwargs)\n    C:\\Users\\Lab PC\\AppData\\Roaming\\Python\\Python38\\site-packages\\tensorflow\\python\\util\\dispatch.py:206 wrapper\n        return target(*args, **kwargs)\n    C:\\Users\\Lab PC\\AppData\\Roaming\\Python\\Python38\\site-packages\\keras\\losses.py:1665 categorical_crossentropy\n        return backend.categorical_crossentropy(\n    C:\\Users\\Lab PC\\AppData\\Roaming\\Python\\Python38\\site-packages\\tensorflow\\python\\util\\dispatch.py:206 wrapper\n        return target(*args, **kwargs)\n    C:\\Users\\Lab PC\\AppData\\Roaming\\Python\\Python38\\site-packages\\keras\\backend.py:4839 categorical_crossentropy\n        target.shape.assert_is_compatible_with(output.shape)\n    C:\\Users\\Lab PC\\AppData\\Roaming\\Python\\Python38\\site-packages\\tensorflow\\python\\framework\\tensor_shape.py:1161 assert_is_compatible_with\n        raise ValueError(\"Shapes %s and %s are incompatible\" % (self, other))\n\n    ValueError: Shapes (None, 1) and (None, 5) are incompatible\n",
     "output_type": "error",
     "traceback": [
      "\u001b[1;31m---------------------------------------------------------------------------\u001b[0m",
      "\u001b[1;31mValueError\u001b[0m                                Traceback (most recent call last)",
      "\u001b[1;32m<ipython-input-161-c0daaad84662>\u001b[0m in \u001b[0;36m<module>\u001b[1;34m\u001b[0m\n\u001b[0;32m      1\u001b[0m \u001b[0mmodel\u001b[0m \u001b[1;33m=\u001b[0m \u001b[0mGridSearchCV\u001b[0m\u001b[1;33m(\u001b[0m\u001b[0mestimator\u001b[0m\u001b[1;33m=\u001b[0m \u001b[0mclf\u001b[0m\u001b[1;33m,\u001b[0m \u001b[0mparam_grid\u001b[0m\u001b[1;33m=\u001b[0m\u001b[0mparam_grid\u001b[0m\u001b[1;33m,\u001b[0m \u001b[0mn_jobs\u001b[0m\u001b[1;33m=\u001b[0m\u001b[1;33m-\u001b[0m\u001b[1;36m1\u001b[0m\u001b[1;33m)\u001b[0m\u001b[1;33m\u001b[0m\u001b[1;33m\u001b[0m\u001b[0m\n\u001b[1;32m----> 2\u001b[1;33m \u001b[0mmodel\u001b[0m\u001b[1;33m.\u001b[0m\u001b[0mfit\u001b[0m\u001b[1;33m(\u001b[0m\u001b[0mX_Train\u001b[0m\u001b[1;33m,\u001b[0m\u001b[0mY_Train\u001b[0m\u001b[1;33m)\u001b[0m\u001b[1;33m\u001b[0m\u001b[1;33m\u001b[0m\u001b[0m\n\u001b[0m",
      "\u001b[1;32m~\\AppData\\Roaming\\Python\\Python38\\site-packages\\sklearn\\utils\\validation.py\u001b[0m in \u001b[0;36minner_f\u001b[1;34m(*args, **kwargs)\u001b[0m\n\u001b[0;32m     71\u001b[0m                           FutureWarning)\n\u001b[0;32m     72\u001b[0m         \u001b[0mkwargs\u001b[0m\u001b[1;33m.\u001b[0m\u001b[0mupdate\u001b[0m\u001b[1;33m(\u001b[0m\u001b[1;33m{\u001b[0m\u001b[0mk\u001b[0m\u001b[1;33m:\u001b[0m \u001b[0marg\u001b[0m \u001b[1;32mfor\u001b[0m \u001b[0mk\u001b[0m\u001b[1;33m,\u001b[0m \u001b[0marg\u001b[0m \u001b[1;32min\u001b[0m \u001b[0mzip\u001b[0m\u001b[1;33m(\u001b[0m\u001b[0msig\u001b[0m\u001b[1;33m.\u001b[0m\u001b[0mparameters\u001b[0m\u001b[1;33m,\u001b[0m \u001b[0margs\u001b[0m\u001b[1;33m)\u001b[0m\u001b[1;33m}\u001b[0m\u001b[1;33m)\u001b[0m\u001b[1;33m\u001b[0m\u001b[1;33m\u001b[0m\u001b[0m\n\u001b[1;32m---> 73\u001b[1;33m         \u001b[1;32mreturn\u001b[0m \u001b[0mf\u001b[0m\u001b[1;33m(\u001b[0m\u001b[1;33m**\u001b[0m\u001b[0mkwargs\u001b[0m\u001b[1;33m)\u001b[0m\u001b[1;33m\u001b[0m\u001b[1;33m\u001b[0m\u001b[0m\n\u001b[0m\u001b[0;32m     74\u001b[0m     \u001b[1;32mreturn\u001b[0m \u001b[0minner_f\u001b[0m\u001b[1;33m\u001b[0m\u001b[1;33m\u001b[0m\u001b[0m\n\u001b[0;32m     75\u001b[0m \u001b[1;33m\u001b[0m\u001b[0m\n",
      "\u001b[1;32m~\\AppData\\Roaming\\Python\\Python38\\site-packages\\sklearn\\model_selection\\_search.py\u001b[0m in \u001b[0;36mfit\u001b[1;34m(self, X, y, groups, **fit_params)\u001b[0m\n\u001b[0;32m    763\u001b[0m             \u001b[0mrefit_start_time\u001b[0m \u001b[1;33m=\u001b[0m \u001b[0mtime\u001b[0m\u001b[1;33m.\u001b[0m\u001b[0mtime\u001b[0m\u001b[1;33m(\u001b[0m\u001b[1;33m)\u001b[0m\u001b[1;33m\u001b[0m\u001b[1;33m\u001b[0m\u001b[0m\n\u001b[0;32m    764\u001b[0m             \u001b[1;32mif\u001b[0m \u001b[0my\u001b[0m \u001b[1;32mis\u001b[0m \u001b[1;32mnot\u001b[0m \u001b[1;32mNone\u001b[0m\u001b[1;33m:\u001b[0m\u001b[1;33m\u001b[0m\u001b[1;33m\u001b[0m\u001b[0m\n\u001b[1;32m--> 765\u001b[1;33m                 \u001b[0mself\u001b[0m\u001b[1;33m.\u001b[0m\u001b[0mbest_estimator_\u001b[0m\u001b[1;33m.\u001b[0m\u001b[0mfit\u001b[0m\u001b[1;33m(\u001b[0m\u001b[0mX\u001b[0m\u001b[1;33m,\u001b[0m \u001b[0my\u001b[0m\u001b[1;33m,\u001b[0m \u001b[1;33m**\u001b[0m\u001b[0mfit_params\u001b[0m\u001b[1;33m)\u001b[0m\u001b[1;33m\u001b[0m\u001b[1;33m\u001b[0m\u001b[0m\n\u001b[0m\u001b[0;32m    766\u001b[0m             \u001b[1;32melse\u001b[0m\u001b[1;33m:\u001b[0m\u001b[1;33m\u001b[0m\u001b[1;33m\u001b[0m\u001b[0m\n\u001b[0;32m    767\u001b[0m                 \u001b[0mself\u001b[0m\u001b[1;33m.\u001b[0m\u001b[0mbest_estimator_\u001b[0m\u001b[1;33m.\u001b[0m\u001b[0mfit\u001b[0m\u001b[1;33m(\u001b[0m\u001b[0mX\u001b[0m\u001b[1;33m,\u001b[0m \u001b[1;33m**\u001b[0m\u001b[0mfit_params\u001b[0m\u001b[1;33m)\u001b[0m\u001b[1;33m\u001b[0m\u001b[1;33m\u001b[0m\u001b[0m\n",
      "\u001b[1;32m~\\AppData\\Roaming\\Python\\Python38\\site-packages\\keras\\wrappers\\scikit_learn.py\u001b[0m in \u001b[0;36mfit\u001b[1;34m(self, x, y, **kwargs)\u001b[0m\n\u001b[0;32m    217\u001b[0m       \u001b[1;32mraise\u001b[0m \u001b[0mValueError\u001b[0m\u001b[1;33m(\u001b[0m\u001b[1;34m'Invalid shape for y: '\u001b[0m \u001b[1;33m+\u001b[0m \u001b[0mstr\u001b[0m\u001b[1;33m(\u001b[0m\u001b[0my\u001b[0m\u001b[1;33m.\u001b[0m\u001b[0mshape\u001b[0m\u001b[1;33m)\u001b[0m\u001b[1;33m)\u001b[0m\u001b[1;33m\u001b[0m\u001b[1;33m\u001b[0m\u001b[0m\n\u001b[0;32m    218\u001b[0m     \u001b[0mself\u001b[0m\u001b[1;33m.\u001b[0m\u001b[0mn_classes_\u001b[0m \u001b[1;33m=\u001b[0m \u001b[0mlen\u001b[0m\u001b[1;33m(\u001b[0m\u001b[0mself\u001b[0m\u001b[1;33m.\u001b[0m\u001b[0mclasses_\u001b[0m\u001b[1;33m)\u001b[0m\u001b[1;33m\u001b[0m\u001b[1;33m\u001b[0m\u001b[0m\n\u001b[1;32m--> 219\u001b[1;33m     \u001b[1;32mreturn\u001b[0m \u001b[0msuper\u001b[0m\u001b[1;33m(\u001b[0m\u001b[0mKerasClassifier\u001b[0m\u001b[1;33m,\u001b[0m \u001b[0mself\u001b[0m\u001b[1;33m)\u001b[0m\u001b[1;33m.\u001b[0m\u001b[0mfit\u001b[0m\u001b[1;33m(\u001b[0m\u001b[0mx\u001b[0m\u001b[1;33m,\u001b[0m \u001b[0my\u001b[0m\u001b[1;33m,\u001b[0m \u001b[1;33m**\u001b[0m\u001b[0mkwargs\u001b[0m\u001b[1;33m)\u001b[0m\u001b[1;33m\u001b[0m\u001b[1;33m\u001b[0m\u001b[0m\n\u001b[0m\u001b[0;32m    220\u001b[0m \u001b[1;33m\u001b[0m\u001b[0m\n\u001b[0;32m    221\u001b[0m   \u001b[1;32mdef\u001b[0m \u001b[0mpredict\u001b[0m\u001b[1;33m(\u001b[0m\u001b[0mself\u001b[0m\u001b[1;33m,\u001b[0m \u001b[0mx\u001b[0m\u001b[1;33m,\u001b[0m \u001b[1;33m**\u001b[0m\u001b[0mkwargs\u001b[0m\u001b[1;33m)\u001b[0m\u001b[1;33m:\u001b[0m\u001b[1;33m\u001b[0m\u001b[1;33m\u001b[0m\u001b[0m\n",
      "\u001b[1;32m~\\AppData\\Roaming\\Python\\Python38\\site-packages\\keras\\wrappers\\scikit_learn.py\u001b[0m in \u001b[0;36mfit\u001b[1;34m(self, x, y, **kwargs)\u001b[0m\n\u001b[0;32m    160\u001b[0m     \u001b[0mfit_args\u001b[0m\u001b[1;33m.\u001b[0m\u001b[0mupdate\u001b[0m\u001b[1;33m(\u001b[0m\u001b[0mkwargs\u001b[0m\u001b[1;33m)\u001b[0m\u001b[1;33m\u001b[0m\u001b[1;33m\u001b[0m\u001b[0m\n\u001b[0;32m    161\u001b[0m \u001b[1;33m\u001b[0m\u001b[0m\n\u001b[1;32m--> 162\u001b[1;33m     \u001b[0mhistory\u001b[0m \u001b[1;33m=\u001b[0m \u001b[0mself\u001b[0m\u001b[1;33m.\u001b[0m\u001b[0mmodel\u001b[0m\u001b[1;33m.\u001b[0m\u001b[0mfit\u001b[0m\u001b[1;33m(\u001b[0m\u001b[0mx\u001b[0m\u001b[1;33m,\u001b[0m \u001b[0my\u001b[0m\u001b[1;33m,\u001b[0m \u001b[1;33m**\u001b[0m\u001b[0mfit_args\u001b[0m\u001b[1;33m)\u001b[0m\u001b[1;33m\u001b[0m\u001b[1;33m\u001b[0m\u001b[0m\n\u001b[0m\u001b[0;32m    163\u001b[0m \u001b[1;33m\u001b[0m\u001b[0m\n\u001b[0;32m    164\u001b[0m     \u001b[1;32mreturn\u001b[0m \u001b[0mhistory\u001b[0m\u001b[1;33m\u001b[0m\u001b[1;33m\u001b[0m\u001b[0m\n",
      "\u001b[1;32m~\\AppData\\Roaming\\Python\\Python38\\site-packages\\keras\\engine\\training.py\u001b[0m in \u001b[0;36mfit\u001b[1;34m(self, x, y, batch_size, epochs, verbose, callbacks, validation_split, validation_data, shuffle, class_weight, sample_weight, initial_epoch, steps_per_epoch, validation_steps, validation_batch_size, validation_freq, max_queue_size, workers, use_multiprocessing)\u001b[0m\n\u001b[0;32m   1182\u001b[0m                 _r=1):\n\u001b[0;32m   1183\u001b[0m               \u001b[0mcallbacks\u001b[0m\u001b[1;33m.\u001b[0m\u001b[0mon_train_batch_begin\u001b[0m\u001b[1;33m(\u001b[0m\u001b[0mstep\u001b[0m\u001b[1;33m)\u001b[0m\u001b[1;33m\u001b[0m\u001b[1;33m\u001b[0m\u001b[0m\n\u001b[1;32m-> 1184\u001b[1;33m               \u001b[0mtmp_logs\u001b[0m \u001b[1;33m=\u001b[0m \u001b[0mself\u001b[0m\u001b[1;33m.\u001b[0m\u001b[0mtrain_function\u001b[0m\u001b[1;33m(\u001b[0m\u001b[0miterator\u001b[0m\u001b[1;33m)\u001b[0m\u001b[1;33m\u001b[0m\u001b[1;33m\u001b[0m\u001b[0m\n\u001b[0m\u001b[0;32m   1185\u001b[0m               \u001b[1;32mif\u001b[0m \u001b[0mdata_handler\u001b[0m\u001b[1;33m.\u001b[0m\u001b[0mshould_sync\u001b[0m\u001b[1;33m:\u001b[0m\u001b[1;33m\u001b[0m\u001b[1;33m\u001b[0m\u001b[0m\n\u001b[0;32m   1186\u001b[0m                 \u001b[0mcontext\u001b[0m\u001b[1;33m.\u001b[0m\u001b[0masync_wait\u001b[0m\u001b[1;33m(\u001b[0m\u001b[1;33m)\u001b[0m\u001b[1;33m\u001b[0m\u001b[1;33m\u001b[0m\u001b[0m\n",
      "\u001b[1;32m~\\AppData\\Roaming\\Python\\Python38\\site-packages\\tensorflow\\python\\eager\\def_function.py\u001b[0m in \u001b[0;36m__call__\u001b[1;34m(self, *args, **kwds)\u001b[0m\n\u001b[0;32m    883\u001b[0m \u001b[1;33m\u001b[0m\u001b[0m\n\u001b[0;32m    884\u001b[0m       \u001b[1;32mwith\u001b[0m \u001b[0mOptionalXlaContext\u001b[0m\u001b[1;33m(\u001b[0m\u001b[0mself\u001b[0m\u001b[1;33m.\u001b[0m\u001b[0m_jit_compile\u001b[0m\u001b[1;33m)\u001b[0m\u001b[1;33m:\u001b[0m\u001b[1;33m\u001b[0m\u001b[1;33m\u001b[0m\u001b[0m\n\u001b[1;32m--> 885\u001b[1;33m         \u001b[0mresult\u001b[0m \u001b[1;33m=\u001b[0m \u001b[0mself\u001b[0m\u001b[1;33m.\u001b[0m\u001b[0m_call\u001b[0m\u001b[1;33m(\u001b[0m\u001b[1;33m*\u001b[0m\u001b[0margs\u001b[0m\u001b[1;33m,\u001b[0m \u001b[1;33m**\u001b[0m\u001b[0mkwds\u001b[0m\u001b[1;33m)\u001b[0m\u001b[1;33m\u001b[0m\u001b[1;33m\u001b[0m\u001b[0m\n\u001b[0m\u001b[0;32m    886\u001b[0m \u001b[1;33m\u001b[0m\u001b[0m\n\u001b[0;32m    887\u001b[0m       \u001b[0mnew_tracing_count\u001b[0m \u001b[1;33m=\u001b[0m \u001b[0mself\u001b[0m\u001b[1;33m.\u001b[0m\u001b[0mexperimental_get_tracing_count\u001b[0m\u001b[1;33m(\u001b[0m\u001b[1;33m)\u001b[0m\u001b[1;33m\u001b[0m\u001b[1;33m\u001b[0m\u001b[0m\n",
      "\u001b[1;32m~\\AppData\\Roaming\\Python\\Python38\\site-packages\\tensorflow\\python\\eager\\def_function.py\u001b[0m in \u001b[0;36m_call\u001b[1;34m(self, *args, **kwds)\u001b[0m\n\u001b[0;32m    931\u001b[0m       \u001b[1;31m# This is the first call of __call__, so we have to initialize.\u001b[0m\u001b[1;33m\u001b[0m\u001b[1;33m\u001b[0m\u001b[1;33m\u001b[0m\u001b[0m\n\u001b[0;32m    932\u001b[0m       \u001b[0minitializers\u001b[0m \u001b[1;33m=\u001b[0m \u001b[1;33m[\u001b[0m\u001b[1;33m]\u001b[0m\u001b[1;33m\u001b[0m\u001b[1;33m\u001b[0m\u001b[0m\n\u001b[1;32m--> 933\u001b[1;33m       \u001b[0mself\u001b[0m\u001b[1;33m.\u001b[0m\u001b[0m_initialize\u001b[0m\u001b[1;33m(\u001b[0m\u001b[0margs\u001b[0m\u001b[1;33m,\u001b[0m \u001b[0mkwds\u001b[0m\u001b[1;33m,\u001b[0m \u001b[0madd_initializers_to\u001b[0m\u001b[1;33m=\u001b[0m\u001b[0minitializers\u001b[0m\u001b[1;33m)\u001b[0m\u001b[1;33m\u001b[0m\u001b[1;33m\u001b[0m\u001b[0m\n\u001b[0m\u001b[0;32m    934\u001b[0m     \u001b[1;32mfinally\u001b[0m\u001b[1;33m:\u001b[0m\u001b[1;33m\u001b[0m\u001b[1;33m\u001b[0m\u001b[0m\n\u001b[0;32m    935\u001b[0m       \u001b[1;31m# At this point we know that the initialization is complete (or less\u001b[0m\u001b[1;33m\u001b[0m\u001b[1;33m\u001b[0m\u001b[1;33m\u001b[0m\u001b[0m\n",
      "\u001b[1;32m~\\AppData\\Roaming\\Python\\Python38\\site-packages\\tensorflow\\python\\eager\\def_function.py\u001b[0m in \u001b[0;36m_initialize\u001b[1;34m(self, args, kwds, add_initializers_to)\u001b[0m\n\u001b[0;32m    757\u001b[0m     \u001b[0mself\u001b[0m\u001b[1;33m.\u001b[0m\u001b[0m_graph_deleter\u001b[0m \u001b[1;33m=\u001b[0m \u001b[0mFunctionDeleter\u001b[0m\u001b[1;33m(\u001b[0m\u001b[0mself\u001b[0m\u001b[1;33m.\u001b[0m\u001b[0m_lifted_initializer_graph\u001b[0m\u001b[1;33m)\u001b[0m\u001b[1;33m\u001b[0m\u001b[1;33m\u001b[0m\u001b[0m\n\u001b[0;32m    758\u001b[0m     self._concrete_stateful_fn = (\n\u001b[1;32m--> 759\u001b[1;33m         self._stateful_fn._get_concrete_function_internal_garbage_collected(  # pylint: disable=protected-access\n\u001b[0m\u001b[0;32m    760\u001b[0m             *args, **kwds))\n\u001b[0;32m    761\u001b[0m \u001b[1;33m\u001b[0m\u001b[0m\n",
      "\u001b[1;32m~\\AppData\\Roaming\\Python\\Python38\\site-packages\\tensorflow\\python\\eager\\function.py\u001b[0m in \u001b[0;36m_get_concrete_function_internal_garbage_collected\u001b[1;34m(self, *args, **kwargs)\u001b[0m\n\u001b[0;32m   3064\u001b[0m       \u001b[0margs\u001b[0m\u001b[1;33m,\u001b[0m \u001b[0mkwargs\u001b[0m \u001b[1;33m=\u001b[0m \u001b[1;32mNone\u001b[0m\u001b[1;33m,\u001b[0m \u001b[1;32mNone\u001b[0m\u001b[1;33m\u001b[0m\u001b[1;33m\u001b[0m\u001b[0m\n\u001b[0;32m   3065\u001b[0m     \u001b[1;32mwith\u001b[0m \u001b[0mself\u001b[0m\u001b[1;33m.\u001b[0m\u001b[0m_lock\u001b[0m\u001b[1;33m:\u001b[0m\u001b[1;33m\u001b[0m\u001b[1;33m\u001b[0m\u001b[0m\n\u001b[1;32m-> 3066\u001b[1;33m       \u001b[0mgraph_function\u001b[0m\u001b[1;33m,\u001b[0m \u001b[0m_\u001b[0m \u001b[1;33m=\u001b[0m \u001b[0mself\u001b[0m\u001b[1;33m.\u001b[0m\u001b[0m_maybe_define_function\u001b[0m\u001b[1;33m(\u001b[0m\u001b[0margs\u001b[0m\u001b[1;33m,\u001b[0m \u001b[0mkwargs\u001b[0m\u001b[1;33m)\u001b[0m\u001b[1;33m\u001b[0m\u001b[1;33m\u001b[0m\u001b[0m\n\u001b[0m\u001b[0;32m   3067\u001b[0m     \u001b[1;32mreturn\u001b[0m \u001b[0mgraph_function\u001b[0m\u001b[1;33m\u001b[0m\u001b[1;33m\u001b[0m\u001b[0m\n\u001b[0;32m   3068\u001b[0m \u001b[1;33m\u001b[0m\u001b[0m\n",
      "\u001b[1;32m~\\AppData\\Roaming\\Python\\Python38\\site-packages\\tensorflow\\python\\eager\\function.py\u001b[0m in \u001b[0;36m_maybe_define_function\u001b[1;34m(self, args, kwargs)\u001b[0m\n\u001b[0;32m   3461\u001b[0m \u001b[1;33m\u001b[0m\u001b[0m\n\u001b[0;32m   3462\u001b[0m           \u001b[0mself\u001b[0m\u001b[1;33m.\u001b[0m\u001b[0m_function_cache\u001b[0m\u001b[1;33m.\u001b[0m\u001b[0mmissed\u001b[0m\u001b[1;33m.\u001b[0m\u001b[0madd\u001b[0m\u001b[1;33m(\u001b[0m\u001b[0mcall_context_key\u001b[0m\u001b[1;33m)\u001b[0m\u001b[1;33m\u001b[0m\u001b[1;33m\u001b[0m\u001b[0m\n\u001b[1;32m-> 3463\u001b[1;33m           \u001b[0mgraph_function\u001b[0m \u001b[1;33m=\u001b[0m \u001b[0mself\u001b[0m\u001b[1;33m.\u001b[0m\u001b[0m_create_graph_function\u001b[0m\u001b[1;33m(\u001b[0m\u001b[0margs\u001b[0m\u001b[1;33m,\u001b[0m \u001b[0mkwargs\u001b[0m\u001b[1;33m)\u001b[0m\u001b[1;33m\u001b[0m\u001b[1;33m\u001b[0m\u001b[0m\n\u001b[0m\u001b[0;32m   3464\u001b[0m           \u001b[0mself\u001b[0m\u001b[1;33m.\u001b[0m\u001b[0m_function_cache\u001b[0m\u001b[1;33m.\u001b[0m\u001b[0mprimary\u001b[0m\u001b[1;33m[\u001b[0m\u001b[0mcache_key\u001b[0m\u001b[1;33m]\u001b[0m \u001b[1;33m=\u001b[0m \u001b[0mgraph_function\u001b[0m\u001b[1;33m\u001b[0m\u001b[1;33m\u001b[0m\u001b[0m\n\u001b[0;32m   3465\u001b[0m \u001b[1;33m\u001b[0m\u001b[0m\n",
      "\u001b[1;32m~\\AppData\\Roaming\\Python\\Python38\\site-packages\\tensorflow\\python\\eager\\function.py\u001b[0m in \u001b[0;36m_create_graph_function\u001b[1;34m(self, args, kwargs, override_flat_arg_shapes)\u001b[0m\n\u001b[0;32m   3296\u001b[0m     \u001b[0marg_names\u001b[0m \u001b[1;33m=\u001b[0m \u001b[0mbase_arg_names\u001b[0m \u001b[1;33m+\u001b[0m \u001b[0mmissing_arg_names\u001b[0m\u001b[1;33m\u001b[0m\u001b[1;33m\u001b[0m\u001b[0m\n\u001b[0;32m   3297\u001b[0m     graph_function = ConcreteFunction(\n\u001b[1;32m-> 3298\u001b[1;33m         func_graph_module.func_graph_from_py_func(\n\u001b[0m\u001b[0;32m   3299\u001b[0m             \u001b[0mself\u001b[0m\u001b[1;33m.\u001b[0m\u001b[0m_name\u001b[0m\u001b[1;33m,\u001b[0m\u001b[1;33m\u001b[0m\u001b[1;33m\u001b[0m\u001b[0m\n\u001b[0;32m   3300\u001b[0m             \u001b[0mself\u001b[0m\u001b[1;33m.\u001b[0m\u001b[0m_python_function\u001b[0m\u001b[1;33m,\u001b[0m\u001b[1;33m\u001b[0m\u001b[1;33m\u001b[0m\u001b[0m\n",
      "\u001b[1;32m~\\AppData\\Roaming\\Python\\Python38\\site-packages\\tensorflow\\python\\framework\\func_graph.py\u001b[0m in \u001b[0;36mfunc_graph_from_py_func\u001b[1;34m(name, python_func, args, kwargs, signature, func_graph, autograph, autograph_options, add_control_dependencies, arg_names, op_return_value, collections, capture_by_value, override_flat_arg_shapes, acd_record_initial_resource_uses)\u001b[0m\n\u001b[0;32m   1005\u001b[0m         \u001b[0m_\u001b[0m\u001b[1;33m,\u001b[0m \u001b[0moriginal_func\u001b[0m \u001b[1;33m=\u001b[0m \u001b[0mtf_decorator\u001b[0m\u001b[1;33m.\u001b[0m\u001b[0munwrap\u001b[0m\u001b[1;33m(\u001b[0m\u001b[0mpython_func\u001b[0m\u001b[1;33m)\u001b[0m\u001b[1;33m\u001b[0m\u001b[1;33m\u001b[0m\u001b[0m\n\u001b[0;32m   1006\u001b[0m \u001b[1;33m\u001b[0m\u001b[0m\n\u001b[1;32m-> 1007\u001b[1;33m       \u001b[0mfunc_outputs\u001b[0m \u001b[1;33m=\u001b[0m \u001b[0mpython_func\u001b[0m\u001b[1;33m(\u001b[0m\u001b[1;33m*\u001b[0m\u001b[0mfunc_args\u001b[0m\u001b[1;33m,\u001b[0m \u001b[1;33m**\u001b[0m\u001b[0mfunc_kwargs\u001b[0m\u001b[1;33m)\u001b[0m\u001b[1;33m\u001b[0m\u001b[1;33m\u001b[0m\u001b[0m\n\u001b[0m\u001b[0;32m   1008\u001b[0m \u001b[1;33m\u001b[0m\u001b[0m\n\u001b[0;32m   1009\u001b[0m       \u001b[1;31m# invariant: `func_outputs` contains only Tensors, CompositeTensors,\u001b[0m\u001b[1;33m\u001b[0m\u001b[1;33m\u001b[0m\u001b[1;33m\u001b[0m\u001b[0m\n",
      "\u001b[1;32m~\\AppData\\Roaming\\Python\\Python38\\site-packages\\tensorflow\\python\\eager\\def_function.py\u001b[0m in \u001b[0;36mwrapped_fn\u001b[1;34m(*args, **kwds)\u001b[0m\n\u001b[0;32m    666\u001b[0m         \u001b[1;31m# the function a weak reference to itself to avoid a reference cycle.\u001b[0m\u001b[1;33m\u001b[0m\u001b[1;33m\u001b[0m\u001b[1;33m\u001b[0m\u001b[0m\n\u001b[0;32m    667\u001b[0m         \u001b[1;32mwith\u001b[0m \u001b[0mOptionalXlaContext\u001b[0m\u001b[1;33m(\u001b[0m\u001b[0mcompile_with_xla\u001b[0m\u001b[1;33m)\u001b[0m\u001b[1;33m:\u001b[0m\u001b[1;33m\u001b[0m\u001b[1;33m\u001b[0m\u001b[0m\n\u001b[1;32m--> 668\u001b[1;33m           \u001b[0mout\u001b[0m \u001b[1;33m=\u001b[0m \u001b[0mweak_wrapped_fn\u001b[0m\u001b[1;33m(\u001b[0m\u001b[1;33m)\u001b[0m\u001b[1;33m.\u001b[0m\u001b[0m__wrapped__\u001b[0m\u001b[1;33m(\u001b[0m\u001b[1;33m*\u001b[0m\u001b[0margs\u001b[0m\u001b[1;33m,\u001b[0m \u001b[1;33m**\u001b[0m\u001b[0mkwds\u001b[0m\u001b[1;33m)\u001b[0m\u001b[1;33m\u001b[0m\u001b[1;33m\u001b[0m\u001b[0m\n\u001b[0m\u001b[0;32m    669\u001b[0m         \u001b[1;32mreturn\u001b[0m \u001b[0mout\u001b[0m\u001b[1;33m\u001b[0m\u001b[1;33m\u001b[0m\u001b[0m\n\u001b[0;32m    670\u001b[0m \u001b[1;33m\u001b[0m\u001b[0m\n",
      "\u001b[1;32m~\\AppData\\Roaming\\Python\\Python38\\site-packages\\tensorflow\\python\\framework\\func_graph.py\u001b[0m in \u001b[0;36mwrapper\u001b[1;34m(*args, **kwargs)\u001b[0m\n\u001b[0;32m    992\u001b[0m           \u001b[1;32mexcept\u001b[0m \u001b[0mException\u001b[0m \u001b[1;32mas\u001b[0m \u001b[0me\u001b[0m\u001b[1;33m:\u001b[0m  \u001b[1;31m# pylint:disable=broad-except\u001b[0m\u001b[1;33m\u001b[0m\u001b[1;33m\u001b[0m\u001b[0m\n\u001b[0;32m    993\u001b[0m             \u001b[1;32mif\u001b[0m \u001b[0mhasattr\u001b[0m\u001b[1;33m(\u001b[0m\u001b[0me\u001b[0m\u001b[1;33m,\u001b[0m \u001b[1;34m\"ag_error_metadata\"\u001b[0m\u001b[1;33m)\u001b[0m\u001b[1;33m:\u001b[0m\u001b[1;33m\u001b[0m\u001b[1;33m\u001b[0m\u001b[0m\n\u001b[1;32m--> 994\u001b[1;33m               \u001b[1;32mraise\u001b[0m \u001b[0me\u001b[0m\u001b[1;33m.\u001b[0m\u001b[0mag_error_metadata\u001b[0m\u001b[1;33m.\u001b[0m\u001b[0mto_exception\u001b[0m\u001b[1;33m(\u001b[0m\u001b[0me\u001b[0m\u001b[1;33m)\u001b[0m\u001b[1;33m\u001b[0m\u001b[1;33m\u001b[0m\u001b[0m\n\u001b[0m\u001b[0;32m    995\u001b[0m             \u001b[1;32melse\u001b[0m\u001b[1;33m:\u001b[0m\u001b[1;33m\u001b[0m\u001b[1;33m\u001b[0m\u001b[0m\n\u001b[0;32m    996\u001b[0m               \u001b[1;32mraise\u001b[0m\u001b[1;33m\u001b[0m\u001b[1;33m\u001b[0m\u001b[0m\n",
      "\u001b[1;31mValueError\u001b[0m: in user code:\n\n    C:\\Users\\Lab PC\\AppData\\Roaming\\Python\\Python38\\site-packages\\keras\\engine\\training.py:853 train_function  *\n        return step_function(self, iterator)\n    C:\\Users\\Lab PC\\AppData\\Roaming\\Python\\Python38\\site-packages\\keras\\engine\\training.py:842 step_function  **\n        outputs = model.distribute_strategy.run(run_step, args=(data,))\n    C:\\Users\\Lab PC\\AppData\\Roaming\\Python\\Python38\\site-packages\\tensorflow\\python\\distribute\\distribute_lib.py:1286 run\n        return self._extended.call_for_each_replica(fn, args=args, kwargs=kwargs)\n    C:\\Users\\Lab PC\\AppData\\Roaming\\Python\\Python38\\site-packages\\tensorflow\\python\\distribute\\distribute_lib.py:2849 call_for_each_replica\n        return self._call_for_each_replica(fn, args, kwargs)\n    C:\\Users\\Lab PC\\AppData\\Roaming\\Python\\Python38\\site-packages\\tensorflow\\python\\distribute\\distribute_lib.py:3632 _call_for_each_replica\n        return fn(*args, **kwargs)\n    C:\\Users\\Lab PC\\AppData\\Roaming\\Python\\Python38\\site-packages\\keras\\engine\\training.py:835 run_step  **\n        outputs = model.train_step(data)\n    C:\\Users\\Lab PC\\AppData\\Roaming\\Python\\Python38\\site-packages\\keras\\engine\\training.py:788 train_step\n        loss = self.compiled_loss(\n    C:\\Users\\Lab PC\\AppData\\Roaming\\Python\\Python38\\site-packages\\keras\\engine\\compile_utils.py:201 __call__\n        loss_value = loss_obj(y_t, y_p, sample_weight=sw)\n    C:\\Users\\Lab PC\\AppData\\Roaming\\Python\\Python38\\site-packages\\keras\\losses.py:141 __call__\n        losses = call_fn(y_true, y_pred)\n    C:\\Users\\Lab PC\\AppData\\Roaming\\Python\\Python38\\site-packages\\keras\\losses.py:245 call  **\n        return ag_fn(y_true, y_pred, **self._fn_kwargs)\n    C:\\Users\\Lab PC\\AppData\\Roaming\\Python\\Python38\\site-packages\\tensorflow\\python\\util\\dispatch.py:206 wrapper\n        return target(*args, **kwargs)\n    C:\\Users\\Lab PC\\AppData\\Roaming\\Python\\Python38\\site-packages\\keras\\losses.py:1665 categorical_crossentropy\n        return backend.categorical_crossentropy(\n    C:\\Users\\Lab PC\\AppData\\Roaming\\Python\\Python38\\site-packages\\tensorflow\\python\\util\\dispatch.py:206 wrapper\n        return target(*args, **kwargs)\n    C:\\Users\\Lab PC\\AppData\\Roaming\\Python\\Python38\\site-packages\\keras\\backend.py:4839 categorical_crossentropy\n        target.shape.assert_is_compatible_with(output.shape)\n    C:\\Users\\Lab PC\\AppData\\Roaming\\Python\\Python38\\site-packages\\tensorflow\\python\\framework\\tensor_shape.py:1161 assert_is_compatible_with\n        raise ValueError(\"Shapes %s and %s are incompatible\" % (self, other))\n\n    ValueError: Shapes (None, 1) and (None, 5) are incompatible\n"
     ]
    }
   ],
   "source": [
    "model = GridSearchCV(estimator= clf, param_grid=param_grid, n_jobs=-1)\n",
    "model.fit(X_Train,Y_Train)"
   ]
  },
  {
   "cell_type": "code",
   "execution_count": 115,
   "id": "9bdd7ed5",
   "metadata": {},
   "outputs": [
    {
     "name": "stdout",
     "output_type": "stream",
     "text": [
      "Max Accuracy Registred: 0.872 using {'activation': 'relu', 'neurons': 5, 'optimizer': 'Adamax'}\n"
     ]
    }
   ],
   "source": [
    "print(\"Max Accuracy Registred: {} using {}\".format(round(model.best_score_,3), model.best_params_))"
   ]
  },
  {
   "cell_type": "code",
   "execution_count": 116,
   "id": "a7a5b18e",
   "metadata": {},
   "outputs": [
    {
     "name": "stdout",
     "output_type": "stream",
     "text": [
      "[[690  33]\n",
      " [ 82  38]]\n",
      "              precision    recall  f1-score   support\n",
      "\n",
      "           0       0.89      0.95      0.92       723\n",
      "           1       0.54      0.32      0.40       120\n",
      "\n",
      "    accuracy                           0.86       843\n",
      "   macro avg       0.71      0.64      0.66       843\n",
      "weighted avg       0.84      0.86      0.85       843\n",
      "\n"
     ]
    }
   ],
   "source": [
    "prediction_test = model.predict(X_Test)\n",
    "print(confusion_matrix(Y_Test,prediction_test))\n",
    "print(classification_report(Y_Test,prediction_test))\n",
    "accuracy_ANN = accuracy_score(Y_Test,prediction_test)"
   ]
  },
  {
   "cell_type": "code",
   "execution_count": 117,
   "id": "69c49e42",
   "metadata": {},
   "outputs": [
    {
     "name": "stderr",
     "output_type": "stream",
     "text": [
      "\u001b[32m[I 2021-09-07 08:25:19,049]\u001b[0m A new study created in memory with name: no-name-310a6e2c-5705-4a66-a698-1b870ffcfdf3\u001b[0m\n",
      "\u001b[32m[I 2021-09-07 08:25:19,054]\u001b[0m Trial 0 finished with value: 0.8576512455516014 and parameters: {'classifier': 'RandomForest', 'rf_max_depth': 2.7017942621898823}. Best is trial 0 with value: 0.8576512455516014.\u001b[0m\n",
      "\u001b[32m[I 2021-09-07 08:25:19,057]\u001b[0m Trial 1 finished with value: 0.8576512455516014 and parameters: {'classifier': 'SVC', 'svc_c': 1.2353045775287733e-07}. Best is trial 0 with value: 0.8576512455516014.\u001b[0m\n",
      "\u001b[32m[I 2021-09-07 08:25:19,061]\u001b[0m Trial 2 finished with value: 0.8576512455516014 and parameters: {'classifier': 'RandomForest', 'rf_max_depth': 9.673245543826328}. Best is trial 0 with value: 0.8576512455516014.\u001b[0m\n",
      "\u001b[32m[I 2021-09-07 08:25:19,066]\u001b[0m Trial 3 finished with value: 0.8576512455516014 and parameters: {'classifier': 'RandomForest', 'rf_max_depth': 4.02553430363366}. Best is trial 0 with value: 0.8576512455516014.\u001b[0m\n",
      "\u001b[32m[I 2021-09-07 08:25:19,069]\u001b[0m Trial 4 finished with value: 0.8576512455516014 and parameters: {'classifier': 'RandomForest', 'rf_max_depth': 10.933036621615313}. Best is trial 0 with value: 0.8576512455516014.\u001b[0m\n",
      "\u001b[32m[I 2021-09-07 08:25:19,072]\u001b[0m Trial 5 finished with value: 0.8576512455516014 and parameters: {'classifier': 'RandomForest', 'rf_max_depth': 2.0615770490577194}. Best is trial 0 with value: 0.8576512455516014.\u001b[0m\n",
      "\u001b[32m[I 2021-09-07 08:25:19,074]\u001b[0m Trial 6 finished with value: 0.8576512455516014 and parameters: {'classifier': 'RandomForest', 'rf_max_depth': 4.376005553738672}. Best is trial 0 with value: 0.8576512455516014.\u001b[0m\n",
      "\u001b[32m[I 2021-09-07 08:25:19,078]\u001b[0m Trial 7 finished with value: 0.8576512455516014 and parameters: {'classifier': 'RandomForest', 'rf_max_depth': 2.765977099225878}. Best is trial 0 with value: 0.8576512455516014.\u001b[0m\n",
      "\u001b[32m[I 2021-09-07 08:25:19,080]\u001b[0m Trial 8 finished with value: 0.8576512455516014 and parameters: {'classifier': 'SVC', 'svc_c': 162236.93387316843}. Best is trial 0 with value: 0.8576512455516014.\u001b[0m\n",
      "\u001b[32m[I 2021-09-07 08:25:19,083]\u001b[0m Trial 9 finished with value: 0.8576512455516014 and parameters: {'classifier': 'RandomForest', 'rf_max_depth': 29.22713819627114}. Best is trial 0 with value: 0.8576512455516014.\u001b[0m\n",
      "\u001b[32m[I 2021-09-07 08:25:19,088]\u001b[0m Trial 10 finished with value: 0.8576512455516014 and parameters: {'classifier': 'SVC', 'svc_c': 2327047686.101902}. Best is trial 0 with value: 0.8576512455516014.\u001b[0m\n",
      "\u001b[32m[I 2021-09-07 08:25:19,094]\u001b[0m Trial 11 finished with value: 0.8576512455516014 and parameters: {'classifier': 'SVC', 'svc_c': 4.674436543913867e-10}. Best is trial 0 with value: 0.8576512455516014.\u001b[0m\n",
      "\u001b[32m[I 2021-09-07 08:25:19,099]\u001b[0m Trial 12 finished with value: 0.8576512455516014 and parameters: {'classifier': 'SVC', 'svc_c': 2.451052692813213e-07}. Best is trial 0 with value: 0.8576512455516014.\u001b[0m\n",
      "\u001b[32m[I 2021-09-07 08:25:19,105]\u001b[0m Trial 13 finished with value: 0.8576512455516014 and parameters: {'classifier': 'SVC', 'svc_c': 0.0025854515983735607}. Best is trial 0 with value: 0.8576512455516014.\u001b[0m\n",
      "\u001b[32m[I 2021-09-07 08:25:19,111]\u001b[0m Trial 14 finished with value: 0.8576512455516014 and parameters: {'classifier': 'SVC', 'svc_c': 0.012745539151233587}. Best is trial 0 with value: 0.8576512455516014.\u001b[0m\n",
      "\u001b[32m[I 2021-09-07 08:25:19,116]\u001b[0m Trial 15 finished with value: 0.8576512455516014 and parameters: {'classifier': 'SVC', 'svc_c': 8.190197638179896e-06}. Best is trial 0 with value: 0.8576512455516014.\u001b[0m\n",
      "\u001b[32m[I 2021-09-07 08:25:19,122]\u001b[0m Trial 16 finished with value: 0.8576512455516014 and parameters: {'classifier': 'RandomForest', 'rf_max_depth': 5.742800028249436}. Best is trial 0 with value: 0.8576512455516014.\u001b[0m\n",
      "\u001b[32m[I 2021-09-07 08:25:19,128]\u001b[0m Trial 17 finished with value: 0.8576512455516014 and parameters: {'classifier': 'SVC', 'svc_c': 198.58451702290807}. Best is trial 0 with value: 0.8576512455516014.\u001b[0m\n",
      "\u001b[32m[I 2021-09-07 08:25:19,134]\u001b[0m Trial 18 finished with value: 0.8576512455516014 and parameters: {'classifier': 'SVC', 'svc_c': 5.3355858512298144e-05}. Best is trial 0 with value: 0.8576512455516014.\u001b[0m\n",
      "\u001b[32m[I 2021-09-07 08:25:19,142]\u001b[0m Trial 19 finished with value: 0.8576512455516014 and parameters: {'classifier': 'RandomForest', 'rf_max_depth': 5.712011626821724}. Best is trial 0 with value: 0.8576512455516014.\u001b[0m\n",
      "\u001b[32m[I 2021-09-07 08:25:19,147]\u001b[0m Trial 20 finished with value: 0.8576512455516014 and parameters: {'classifier': 'RandomForest', 'rf_max_depth': 16.646874823610794}. Best is trial 0 with value: 0.8576512455516014.\u001b[0m\n",
      "\u001b[32m[I 2021-09-07 08:25:19,153]\u001b[0m Trial 21 finished with value: 0.8576512455516014 and parameters: {'classifier': 'SVC', 'svc_c': 330.7903350107294}. Best is trial 0 with value: 0.8576512455516014.\u001b[0m\n",
      "\u001b[32m[I 2021-09-07 08:25:19,159]\u001b[0m Trial 22 finished with value: 0.8576512455516014 and parameters: {'classifier': 'RandomForest', 'rf_max_depth': 6.11688502746408}. Best is trial 0 with value: 0.8576512455516014.\u001b[0m\n",
      "\u001b[32m[I 2021-09-07 08:25:19,164]\u001b[0m Trial 23 finished with value: 0.8576512455516014 and parameters: {'classifier': 'RandomForest', 'rf_max_depth': 19.090966992910914}. Best is trial 0 with value: 0.8576512455516014.\u001b[0m\n",
      "\u001b[32m[I 2021-09-07 08:25:19,170]\u001b[0m Trial 24 finished with value: 0.8576512455516014 and parameters: {'classifier': 'RandomForest', 'rf_max_depth': 15.71066124558697}. Best is trial 0 with value: 0.8576512455516014.\u001b[0m\n",
      "\u001b[32m[I 2021-09-07 08:25:19,175]\u001b[0m Trial 25 finished with value: 0.8576512455516014 and parameters: {'classifier': 'RandomForest', 'rf_max_depth': 2.9591963128118546}. Best is trial 0 with value: 0.8576512455516014.\u001b[0m\n",
      "\u001b[32m[I 2021-09-07 08:25:19,181]\u001b[0m Trial 26 finished with value: 0.8576512455516014 and parameters: {'classifier': 'RandomForest', 'rf_max_depth': 30.050699684947684}. Best is trial 0 with value: 0.8576512455516014.\u001b[0m\n",
      "\u001b[32m[I 2021-09-07 08:25:19,187]\u001b[0m Trial 27 finished with value: 0.8576512455516014 and parameters: {'classifier': 'RandomForest', 'rf_max_depth': 16.773977278649788}. Best is trial 0 with value: 0.8576512455516014.\u001b[0m\n",
      "\u001b[32m[I 2021-09-07 08:25:19,193]\u001b[0m Trial 28 finished with value: 0.8576512455516014 and parameters: {'classifier': 'RandomForest', 'rf_max_depth': 2.868440307023875}. Best is trial 0 with value: 0.8576512455516014.\u001b[0m\n",
      "\u001b[32m[I 2021-09-07 08:25:19,199]\u001b[0m Trial 29 finished with value: 0.8576512455516014 and parameters: {'classifier': 'RandomForest', 'rf_max_depth': 2.149981696078968}. Best is trial 0 with value: 0.8576512455516014.\u001b[0m\n",
      "\u001b[32m[I 2021-09-07 08:25:19,204]\u001b[0m Trial 30 finished with value: 0.8576512455516014 and parameters: {'classifier': 'RandomForest', 'rf_max_depth': 27.817152779587257}. Best is trial 0 with value: 0.8576512455516014.\u001b[0m\n",
      "\u001b[32m[I 2021-09-07 08:25:19,210]\u001b[0m Trial 31 finished with value: 0.8576512455516014 and parameters: {'classifier': 'RandomForest', 'rf_max_depth': 21.61695299255008}. Best is trial 0 with value: 0.8576512455516014.\u001b[0m\n",
      "\u001b[32m[I 2021-09-07 08:25:19,216]\u001b[0m Trial 32 finished with value: 0.8576512455516014 and parameters: {'classifier': 'RandomForest', 'rf_max_depth': 2.5013056538214653}. Best is trial 0 with value: 0.8576512455516014.\u001b[0m\n",
      "\u001b[32m[I 2021-09-07 08:25:19,224]\u001b[0m Trial 33 finished with value: 0.8576512455516014 and parameters: {'classifier': 'RandomForest', 'rf_max_depth': 2.036954053508058}. Best is trial 0 with value: 0.8576512455516014.\u001b[0m\n",
      "\u001b[32m[I 2021-09-07 08:25:19,230]\u001b[0m Trial 34 finished with value: 0.8576512455516014 and parameters: {'classifier': 'RandomForest', 'rf_max_depth': 24.50229306707097}. Best is trial 0 with value: 0.8576512455516014.\u001b[0m\n",
      "\u001b[32m[I 2021-09-07 08:25:19,235]\u001b[0m Trial 35 finished with value: 0.8576512455516014 and parameters: {'classifier': 'SVC', 'svc_c': 238.81672056184092}. Best is trial 0 with value: 0.8576512455516014.\u001b[0m\n",
      "\u001b[32m[I 2021-09-07 08:25:19,240]\u001b[0m Trial 36 finished with value: 0.8576512455516014 and parameters: {'classifier': 'RandomForest', 'rf_max_depth': 12.684286099639511}. Best is trial 0 with value: 0.8576512455516014.\u001b[0m\n",
      "\u001b[32m[I 2021-09-07 08:25:19,246]\u001b[0m Trial 37 finished with value: 0.8576512455516014 and parameters: {'classifier': 'RandomForest', 'rf_max_depth': 6.3455289268262005}. Best is trial 0 with value: 0.8576512455516014.\u001b[0m\n"
     ]
    },
    {
     "name": "stderr",
     "output_type": "stream",
     "text": [
      "\u001b[32m[I 2021-09-07 08:25:19,255]\u001b[0m Trial 38 finished with value: 0.8576512455516014 and parameters: {'classifier': 'SVC', 'svc_c': 413421026.9848357}. Best is trial 0 with value: 0.8576512455516014.\u001b[0m\n",
      "\u001b[32m[I 2021-09-07 08:25:19,260]\u001b[0m Trial 39 finished with value: 0.8576512455516014 and parameters: {'classifier': 'RandomForest', 'rf_max_depth': 7.405265898953495}. Best is trial 0 with value: 0.8576512455516014.\u001b[0m\n",
      "\u001b[32m[I 2021-09-07 08:25:19,266]\u001b[0m Trial 40 finished with value: 0.8576512455516014 and parameters: {'classifier': 'RandomForest', 'rf_max_depth': 15.147659382086873}. Best is trial 0 with value: 0.8576512455516014.\u001b[0m\n",
      "\u001b[32m[I 2021-09-07 08:25:19,272]\u001b[0m Trial 41 finished with value: 0.8576512455516014 and parameters: {'classifier': 'RandomForest', 'rf_max_depth': 4.183249737852378}. Best is trial 0 with value: 0.8576512455516014.\u001b[0m\n",
      "\u001b[32m[I 2021-09-07 08:25:19,278]\u001b[0m Trial 42 finished with value: 0.8576512455516014 and parameters: {'classifier': 'RandomForest', 'rf_max_depth': 20.322770702636106}. Best is trial 0 with value: 0.8576512455516014.\u001b[0m\n",
      "\u001b[32m[I 2021-09-07 08:25:19,284]\u001b[0m Trial 43 finished with value: 0.8576512455516014 and parameters: {'classifier': 'RandomForest', 'rf_max_depth': 31.579472087956983}. Best is trial 0 with value: 0.8576512455516014.\u001b[0m\n",
      "\u001b[32m[I 2021-09-07 08:25:19,289]\u001b[0m Trial 44 finished with value: 0.8576512455516014 and parameters: {'classifier': 'RandomForest', 'rf_max_depth': 9.11502787113124}. Best is trial 0 with value: 0.8576512455516014.\u001b[0m\n",
      "\u001b[32m[I 2021-09-07 08:25:19,295]\u001b[0m Trial 45 finished with value: 0.8576512455516014 and parameters: {'classifier': 'RandomForest', 'rf_max_depth': 13.643182151316447}. Best is trial 0 with value: 0.8576512455516014.\u001b[0m\n",
      "\u001b[32m[I 2021-09-07 08:25:19,301]\u001b[0m Trial 46 finished with value: 0.8576512455516014 and parameters: {'classifier': 'RandomForest', 'rf_max_depth': 3.366534643182426}. Best is trial 0 with value: 0.8576512455516014.\u001b[0m\n",
      "\u001b[32m[I 2021-09-07 08:25:19,307]\u001b[0m Trial 47 finished with value: 0.8576512455516014 and parameters: {'classifier': 'RandomForest', 'rf_max_depth': 3.0163473027144536}. Best is trial 0 with value: 0.8576512455516014.\u001b[0m\n",
      "\u001b[32m[I 2021-09-07 08:25:19,313]\u001b[0m Trial 48 finished with value: 0.8576512455516014 and parameters: {'classifier': 'RandomForest', 'rf_max_depth': 2.2896288342030693}. Best is trial 0 with value: 0.8576512455516014.\u001b[0m\n",
      "\u001b[32m[I 2021-09-07 08:25:19,319]\u001b[0m Trial 49 finished with value: 0.8576512455516014 and parameters: {'classifier': 'RandomForest', 'rf_max_depth': 3.55955133702719}. Best is trial 0 with value: 0.8576512455516014.\u001b[0m\n",
      "\u001b[32m[I 2021-09-07 08:25:19,325]\u001b[0m Trial 50 finished with value: 0.8576512455516014 and parameters: {'classifier': 'RandomForest', 'rf_max_depth': 4.8390258820224865}. Best is trial 0 with value: 0.8576512455516014.\u001b[0m\n",
      "\u001b[32m[I 2021-09-07 08:25:19,331]\u001b[0m Trial 51 finished with value: 0.8576512455516014 and parameters: {'classifier': 'RandomForest', 'rf_max_depth': 23.42093684717493}. Best is trial 0 with value: 0.8576512455516014.\u001b[0m\n",
      "\u001b[32m[I 2021-09-07 08:25:19,337]\u001b[0m Trial 52 finished with value: 0.8576512455516014 and parameters: {'classifier': 'RandomForest', 'rf_max_depth': 2.4660688492188707}. Best is trial 0 with value: 0.8576512455516014.\u001b[0m\n",
      "\u001b[32m[I 2021-09-07 08:25:19,343]\u001b[0m Trial 53 finished with value: 0.8576512455516014 and parameters: {'classifier': 'RandomForest', 'rf_max_depth': 2.2965148846023933}. Best is trial 0 with value: 0.8576512455516014.\u001b[0m\n",
      "\u001b[32m[I 2021-09-07 08:25:19,349]\u001b[0m Trial 54 finished with value: 0.8576512455516014 and parameters: {'classifier': 'RandomForest', 'rf_max_depth': 2.024297909951125}. Best is trial 0 with value: 0.8576512455516014.\u001b[0m\n",
      "\u001b[32m[I 2021-09-07 08:25:19,355]\u001b[0m Trial 55 finished with value: 0.8576512455516014 and parameters: {'classifier': 'RandomForest', 'rf_max_depth': 2.4646671224211207}. Best is trial 0 with value: 0.8576512455516014.\u001b[0m\n",
      "\u001b[32m[I 2021-09-07 08:25:19,361]\u001b[0m Trial 56 finished with value: 0.8576512455516014 and parameters: {'classifier': 'RandomForest', 'rf_max_depth': 26.560902340778696}. Best is trial 0 with value: 0.8576512455516014.\u001b[0m\n",
      "\u001b[32m[I 2021-09-07 08:25:19,367]\u001b[0m Trial 57 finished with value: 0.8576512455516014 and parameters: {'classifier': 'RandomForest', 'rf_max_depth': 25.02002539028206}. Best is trial 0 with value: 0.8576512455516014.\u001b[0m\n",
      "\u001b[32m[I 2021-09-07 08:25:19,373]\u001b[0m Trial 58 finished with value: 0.8576512455516014 and parameters: {'classifier': 'SVC', 'svc_c': 928347.133741718}. Best is trial 0 with value: 0.8576512455516014.\u001b[0m\n",
      "\u001b[32m[I 2021-09-07 08:25:19,380]\u001b[0m Trial 59 finished with value: 0.8576512455516014 and parameters: {'classifier': 'SVC', 'svc_c': 16.05084886165629}. Best is trial 0 with value: 0.8576512455516014.\u001b[0m\n",
      "\u001b[32m[I 2021-09-07 08:25:19,386]\u001b[0m Trial 60 finished with value: 0.8576512455516014 and parameters: {'classifier': 'SVC', 'svc_c': 170057.1484793823}. Best is trial 0 with value: 0.8576512455516014.\u001b[0m\n",
      "\u001b[32m[I 2021-09-07 08:25:19,392]\u001b[0m Trial 61 finished with value: 0.8576512455516014 and parameters: {'classifier': 'SVC', 'svc_c': 0.11494707240984575}. Best is trial 0 with value: 0.8576512455516014.\u001b[0m\n",
      "\u001b[32m[I 2021-09-07 08:25:19,397]\u001b[0m Trial 62 finished with value: 0.8576512455516014 and parameters: {'classifier': 'SVC', 'svc_c': 6148075409.065922}. Best is trial 0 with value: 0.8576512455516014.\u001b[0m\n",
      "\u001b[32m[I 2021-09-07 08:25:19,403]\u001b[0m Trial 63 finished with value: 0.8576512455516014 and parameters: {'classifier': 'SVC', 'svc_c': 10902.083311673077}. Best is trial 0 with value: 0.8576512455516014.\u001b[0m\n",
      "\u001b[32m[I 2021-09-07 08:25:19,409]\u001b[0m Trial 64 finished with value: 0.8576512455516014 and parameters: {'classifier': 'SVC', 'svc_c': 53410931.24363901}. Best is trial 0 with value: 0.8576512455516014.\u001b[0m\n",
      "\u001b[32m[I 2021-09-07 08:25:19,415]\u001b[0m Trial 65 finished with value: 0.8576512455516014 and parameters: {'classifier': 'SVC', 'svc_c': 13867687.813898332}. Best is trial 0 with value: 0.8576512455516014.\u001b[0m\n",
      "\u001b[32m[I 2021-09-07 08:25:19,420]\u001b[0m Trial 66 finished with value: 0.8576512455516014 and parameters: {'classifier': 'SVC', 'svc_c': 2.1914108211004706}. Best is trial 0 with value: 0.8576512455516014.\u001b[0m\n",
      "\u001b[32m[I 2021-09-07 08:25:19,426]\u001b[0m Trial 67 finished with value: 0.8576512455516014 and parameters: {'classifier': 'SVC', 'svc_c': 5610.75533851451}. Best is trial 0 with value: 0.8576512455516014.\u001b[0m\n",
      "\u001b[32m[I 2021-09-07 08:25:19,432]\u001b[0m Trial 68 finished with value: 0.8576512455516014 and parameters: {'classifier': 'RandomForest', 'rf_max_depth': 6.585758714867599}. Best is trial 0 with value: 0.8576512455516014.\u001b[0m\n",
      "\u001b[32m[I 2021-09-07 08:25:19,438]\u001b[0m Trial 69 finished with value: 0.8576512455516014 and parameters: {'classifier': 'RandomForest', 'rf_max_depth': 10.993728910171873}. Best is trial 0 with value: 0.8576512455516014.\u001b[0m\n",
      "\u001b[32m[I 2021-09-07 08:25:19,444]\u001b[0m Trial 70 finished with value: 0.8576512455516014 and parameters: {'classifier': 'RandomForest', 'rf_max_depth': 7.219580040847734}. Best is trial 0 with value: 0.8576512455516014.\u001b[0m\n",
      "\u001b[32m[I 2021-09-07 08:25:19,450]\u001b[0m Trial 71 finished with value: 0.8576512455516014 and parameters: {'classifier': 'RandomForest', 'rf_max_depth': 3.460418420847987}. Best is trial 0 with value: 0.8576512455516014.\u001b[0m\n",
      "\u001b[32m[I 2021-09-07 08:25:19,456]\u001b[0m Trial 72 finished with value: 0.8576512455516014 and parameters: {'classifier': 'RandomForest', 'rf_max_depth': 3.5642380401835165}. Best is trial 0 with value: 0.8576512455516014.\u001b[0m\n",
      "\u001b[32m[I 2021-09-07 08:25:19,461]\u001b[0m Trial 73 finished with value: 0.8576512455516014 and parameters: {'classifier': 'RandomForest', 'rf_max_depth': 4.91264861263638}. Best is trial 0 with value: 0.8576512455516014.\u001b[0m\n",
      "\u001b[32m[I 2021-09-07 08:25:19,467]\u001b[0m Trial 74 finished with value: 0.8576512455516014 and parameters: {'classifier': 'RandomForest', 'rf_max_depth': 2.417596483840786}. Best is trial 0 with value: 0.8576512455516014.\u001b[0m\n",
      "\u001b[32m[I 2021-09-07 08:25:19,473]\u001b[0m Trial 75 finished with value: 0.8576512455516014 and parameters: {'classifier': 'RandomForest', 'rf_max_depth': 3.111189090640407}. Best is trial 0 with value: 0.8576512455516014.\u001b[0m\n"
     ]
    },
    {
     "name": "stderr",
     "output_type": "stream",
     "text": [
      "\u001b[32m[I 2021-09-07 08:25:19,479]\u001b[0m Trial 76 finished with value: 0.8576512455516014 and parameters: {'classifier': 'RandomForest', 'rf_max_depth': 2.298155277013712}. Best is trial 0 with value: 0.8576512455516014.\u001b[0m\n",
      "\u001b[32m[I 2021-09-07 08:25:19,484]\u001b[0m Trial 77 finished with value: 0.8576512455516014 and parameters: {'classifier': 'RandomForest', 'rf_max_depth': 2.6849895705975655}. Best is trial 0 with value: 0.8576512455516014.\u001b[0m\n",
      "\u001b[32m[I 2021-09-07 08:25:19,491]\u001b[0m Trial 78 finished with value: 0.8576512455516014 and parameters: {'classifier': 'RandomForest', 'rf_max_depth': 4.980266852119248}. Best is trial 0 with value: 0.8576512455516014.\u001b[0m\n",
      "\u001b[32m[I 2021-09-07 08:25:19,498]\u001b[0m Trial 79 finished with value: 0.8576512455516014 and parameters: {'classifier': 'RandomForest', 'rf_max_depth': 2.59994736563862}. Best is trial 0 with value: 0.8576512455516014.\u001b[0m\n",
      "\u001b[32m[I 2021-09-07 08:25:19,504]\u001b[0m Trial 80 finished with value: 0.8576512455516014 and parameters: {'classifier': 'RandomForest', 'rf_max_depth': 27.06023595541423}. Best is trial 0 with value: 0.8576512455516014.\u001b[0m\n",
      "\u001b[32m[I 2021-09-07 08:25:19,510]\u001b[0m Trial 81 finished with value: 0.8576512455516014 and parameters: {'classifier': 'RandomForest', 'rf_max_depth': 24.04528104118175}. Best is trial 0 with value: 0.8576512455516014.\u001b[0m\n",
      "\u001b[32m[I 2021-09-07 08:25:19,516]\u001b[0m Trial 82 finished with value: 0.8576512455516014 and parameters: {'classifier': 'SVC', 'svc_c': 2.5519621737440055}. Best is trial 0 with value: 0.8576512455516014.\u001b[0m\n",
      "\u001b[32m[I 2021-09-07 08:25:19,522]\u001b[0m Trial 83 finished with value: 0.8576512455516014 and parameters: {'classifier': 'SVC', 'svc_c': 417842.55427779}. Best is trial 0 with value: 0.8576512455516014.\u001b[0m\n",
      "\u001b[32m[I 2021-09-07 08:25:19,528]\u001b[0m Trial 84 finished with value: 0.8576512455516014 and parameters: {'classifier': 'SVC', 'svc_c': 7148425.58337418}. Best is trial 0 with value: 0.8576512455516014.\u001b[0m\n",
      "\u001b[32m[I 2021-09-07 08:25:19,534]\u001b[0m Trial 85 finished with value: 0.8576512455516014 and parameters: {'classifier': 'SVC', 'svc_c': 373700.65876803617}. Best is trial 0 with value: 0.8576512455516014.\u001b[0m\n",
      "\u001b[32m[I 2021-09-07 08:25:19,540]\u001b[0m Trial 86 finished with value: 0.8576512455516014 and parameters: {'classifier': 'SVC', 'svc_c': 0.0819236271884783}. Best is trial 0 with value: 0.8576512455516014.\u001b[0m\n",
      "\u001b[32m[I 2021-09-07 08:25:19,546]\u001b[0m Trial 87 finished with value: 0.8576512455516014 and parameters: {'classifier': 'SVC', 'svc_c': 9881170272.305197}. Best is trial 0 with value: 0.8576512455516014.\u001b[0m\n",
      "\u001b[32m[I 2021-09-07 08:25:19,552]\u001b[0m Trial 88 finished with value: 0.8576512455516014 and parameters: {'classifier': 'SVC', 'svc_c': 7042.798355579352}. Best is trial 0 with value: 0.8576512455516014.\u001b[0m\n",
      "\u001b[32m[I 2021-09-07 08:25:19,558]\u001b[0m Trial 89 finished with value: 0.8576512455516014 and parameters: {'classifier': 'SVC', 'svc_c': 21.76312239448778}. Best is trial 0 with value: 0.8576512455516014.\u001b[0m\n",
      "\u001b[32m[I 2021-09-07 08:25:19,564]\u001b[0m Trial 90 finished with value: 0.8576512455516014 and parameters: {'classifier': 'SVC', 'svc_c': 29274499.45213653}. Best is trial 0 with value: 0.8576512455516014.\u001b[0m\n",
      "\u001b[32m[I 2021-09-07 08:25:19,570]\u001b[0m Trial 91 finished with value: 0.8576512455516014 and parameters: {'classifier': 'SVC', 'svc_c': 34440057.29340145}. Best is trial 0 with value: 0.8576512455516014.\u001b[0m\n",
      "\u001b[32m[I 2021-09-07 08:25:19,576]\u001b[0m Trial 92 finished with value: 0.8576512455516014 and parameters: {'classifier': 'SVC', 'svc_c': 0.6560308439847751}. Best is trial 0 with value: 0.8576512455516014.\u001b[0m\n",
      "\u001b[32m[I 2021-09-07 08:25:19,581]\u001b[0m Trial 93 finished with value: 0.8576512455516014 and parameters: {'classifier': 'SVC', 'svc_c': 4096908.5243068514}. Best is trial 0 with value: 0.8576512455516014.\u001b[0m\n",
      "\u001b[32m[I 2021-09-07 08:25:19,587]\u001b[0m Trial 94 finished with value: 0.8576512455516014 and parameters: {'classifier': 'SVC', 'svc_c': 8077.702478574537}. Best is trial 0 with value: 0.8576512455516014.\u001b[0m\n",
      "\u001b[32m[I 2021-09-07 08:25:19,593]\u001b[0m Trial 95 finished with value: 0.8576512455516014 and parameters: {'classifier': 'SVC', 'svc_c': 177888537.68556455}. Best is trial 0 with value: 0.8576512455516014.\u001b[0m\n",
      "\u001b[32m[I 2021-09-07 08:25:19,599]\u001b[0m Trial 96 finished with value: 0.8576512455516014 and parameters: {'classifier': 'SVC', 'svc_c': 7970.469509263993}. Best is trial 0 with value: 0.8576512455516014.\u001b[0m\n",
      "\u001b[32m[I 2021-09-07 08:25:19,605]\u001b[0m Trial 97 finished with value: 0.8576512455516014 and parameters: {'classifier': 'SVC', 'svc_c': 2132062430.4395504}. Best is trial 0 with value: 0.8576512455516014.\u001b[0m\n",
      "\u001b[32m[I 2021-09-07 08:25:19,611]\u001b[0m Trial 98 finished with value: 0.8576512455516014 and parameters: {'classifier': 'SVC', 'svc_c': 546640373.366672}. Best is trial 0 with value: 0.8576512455516014.\u001b[0m\n",
      "\u001b[32m[I 2021-09-07 08:25:19,616]\u001b[0m Trial 99 finished with value: 0.8576512455516014 and parameters: {'classifier': 'SVC', 'svc_c': 24459.782010788476}. Best is trial 0 with value: 0.8576512455516014.\u001b[0m\n"
     ]
    }
   ],
   "source": [
    "import sklearn\n",
    "import sklearn.datasets\n",
    "import sklearn.ensemble\n",
    "import sklearn.model_selection\n",
    "import sklearn.svm\n",
    "import optuna\n",
    "\n",
    "# 1. Define an objective function to be maximized.\n",
    "def objective(trial):\n",
    "    iris = sklearn.datasets.load_iris()\n",
    "    x, y = iris.data, iris.target\n",
    "    # 2. Suggest values for the hyperparameters using a trial object.\n",
    "    classifier_name = trial.suggest_categorical('classifier', ['SVC', 'RandomForest'])\n",
    "    if classifier_name == 'SVC':\n",
    "         svc_c = trial.suggest_loguniform('svc_c', 1e-10, 1e10)\n",
    "         classifier_obj = sklearn.svm.SVC(C=svc_c, gamma='auto')\n",
    "    else:\n",
    "        rf_max_depth = int(trial.suggest_loguniform('rf_max_depth', 2, 32))\n",
    "        classifier_obj = sklearn.ensemble.RandomForestClassifier(max_depth=rf_max_depth, n_estimators=10)\n",
    "    ...\n",
    "    return accuracy\n",
    "\n",
    "\n",
    "# 3. Create a study object and optimize the objective function.\n",
    "study = optuna.create_study(direction='maximize')\n",
    "study.optimize(objective, n_trials=100)"
   ]
  },
  {
   "cell_type": "code",
   "execution_count": null,
   "id": "91fb2406",
   "metadata": {},
   "outputs": [],
   "source": []
  },
  {
   "cell_type": "code",
   "execution_count": null,
   "id": "2b38435d",
   "metadata": {},
   "outputs": [],
   "source": []
  },
  {
   "cell_type": "code",
   "execution_count": null,
   "id": "0e09a8a3",
   "metadata": {},
   "outputs": [],
   "source": []
  },
  {
   "cell_type": "code",
   "execution_count": null,
   "id": "8edde8a0",
   "metadata": {},
   "outputs": [],
   "source": []
  },
  {
   "cell_type": "code",
   "execution_count": null,
   "id": "5ceeca3d",
   "metadata": {},
   "outputs": [],
   "source": []
  },
  {
   "cell_type": "code",
   "execution_count": null,
   "id": "85fecddf",
   "metadata": {},
   "outputs": [],
   "source": []
  },
  {
   "cell_type": "code",
   "execution_count": null,
   "id": "d2ef788f",
   "metadata": {},
   "outputs": [],
   "source": []
  },
  {
   "cell_type": "code",
   "execution_count": null,
   "id": "fef933e5",
   "metadata": {},
   "outputs": [],
   "source": []
  }
 ],
 "metadata": {
  "kernelspec": {
   "display_name": "Python 3",
   "language": "python",
   "name": "python3"
  },
  "language_info": {
   "codemirror_mode": {
    "name": "ipython",
    "version": 3
   },
   "file_extension": ".py",
   "mimetype": "text/x-python",
   "name": "python",
   "nbconvert_exporter": "python",
   "pygments_lexer": "ipython3",
   "version": "3.8.0"
  }
 },
 "nbformat": 4,
 "nbformat_minor": 5
}
